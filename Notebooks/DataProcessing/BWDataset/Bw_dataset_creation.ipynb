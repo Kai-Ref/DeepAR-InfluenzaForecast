{
 "cells": [
  {
   "cell_type": "code",
   "execution_count": 7,
   "id": "b92027a3-3c3c-40a1-b011-bb0680047354",
   "metadata": {},
   "outputs": [],
   "source": [
    "import os\n",
    "import pandas as pd\n",
    "import numpy as np\n",
    "import matplotlib.pyplot as plt\n",
    "os.chdir(\"/home/reffert/DeepAR_InfluenzaForecast\")\n",
    "\n",
    "population_df = pd.read_csv(\"/home/reffert/DeepAR_InfluenzaForecast/Notebooks/DataProcessing/PopulationVector.csv\", sep=\",\")\n",
    "influenza_df = pd.read_csv(\"/home/reffert/DeepAR_InfluenzaForecast/Notebooks/DataProcessing/influenza.csv\", sep=\",\")[[\"year\", \"date\", \"location\", \"week\", \"age_group\", \"value\"]]\n",
    "adjacentMatrix = pd.read_csv(\"/home/reffert/DeepAR_InfluenzaForecast/Notebooks/DataProcessing/AdjacentMatrix.csv\", sep=\",\").rename(columns={\"Unnamed: 0\":\"Index\"})\n",
    "adjacentMatrix = adjacentMatrix.set_index(\"Index\")"
   ]
  },
  {
   "cell_type": "code",
   "execution_count": 8,
   "id": "f375baf1-cf21-4994-b992-811a5f2f7d97",
   "metadata": {},
   "outputs": [],
   "source": [
    "Bw_locations = [\"SK Mannheim\", \"SK Heidelberg\", \"SK Heilbronn\", \"SK Karlsruhe\", \"SK Pforzheim\", \"SK Stuttgart\", \"SK Baden-Baden\", \"SK Ulm\", \"SK Freiburg i.Breisgau\",\n",
    "                \"LK Main-Tauber-Kreis\", \"LK Heilbronn\", \"LK Hohenlohekreis\", \"LK Schwäbisch Hall\", \"LK Ludwigsburg\", \"LK Rems-Murr-Kreis\", \"LK Ostalbkreis\",\n",
    "                \"LK Böblingen\", \"LK Esslingen\", \"LK Göppingen\", \"LK Heidenheim\", \"LK Rhein-Neckar-Kreis\", \"LK Neckar-Odenwald-Kreis\", \"LK Karlsruhe\",\n",
    "                \"LK Enzkreis\", \"LK Rastatt\", \"LK Calw\", \"LK Freudenstadt\", \"LK Ortenaukreis\", \"LK Rottweil\", \"LK Emmendingen\", \"LK Schwarzwald-Baar-Kreis\", \"LK Tuttlingen\",\n",
    "                \"LK Breisgau-Hochschwarzwald\", \"LK Lörrach\", \"LK Waldshut\", \"LK Konstanz\", \"LK Tübingen\", \"LK Reutlingen\", \"LK Alb-Donau-Kreis\", \"LK Zollernalbkreis\",\n",
    "                \"LK Sigmaringen\", \"LK Biberach\", \"LK Bodenseekreis\", \"LK Ravensburg\"]\n",
    "Bw_locations.sort()\n",
    "population_df = population_df[population_df.Location.isin(Bw_locations)]\n",
    "influenza_df = influenza_df[influenza_df.location.isin(Bw_locations)].reset_index(drop=True)\n",
    "adjacentMatrix = adjacentMatrix.loc[adjacentMatrix.index.isin(Bw_locations), Bw_locations]\n",
    "population_df = population_df.sort_values(by=[\"Location\"]).set_index(\"Location\")"
   ]
  },
  {
   "cell_type": "code",
   "execution_count": 9,
   "id": "96143b1f-a770-4449-8999-7785f5ee24bf",
   "metadata": {},
   "outputs": [],
   "source": [
    "adjacentMatrix.to_csv(\"/home/reffert/DeepAR_InfluenzaForecast/Notebooks/DataProcessing/BWDataset/AdjacentMatrixBW.csv\")\n",
    "population_df.to_csv(\"/home/reffert/DeepAR_InfluenzaForecast/Notebooks/DataProcessing/BWDataset/PopulationVectorBW.csv\")\n",
    "influenza_df.to_csv(\"/home/reffert/DeepAR_InfluenzaForecast/Notebooks/DataProcessing/BWDataset/influenzaBW.csv\")"
   ]
  }
 ],
 "metadata": {
  "kernelspec": {
   "display_name": "TEST_PYTHON_KERNEL",
   "language": "python",
   "name": "test_kernel"
  },
  "language_info": {
   "codemirror_mode": {
    "name": "ipython",
    "version": 3
   },
   "file_extension": ".py",
   "mimetype": "text/x-python",
   "name": "python",
   "nbconvert_exporter": "python",
   "pygments_lexer": "ipython3",
   "version": "3.10.6"
  }
 },
 "nbformat": 4,
 "nbformat_minor": 5
}
