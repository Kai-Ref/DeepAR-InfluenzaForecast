{
 "cells": [
  {
   "cell_type": "code",
   "execution_count": 1,
   "id": "b92027a3-3c3c-40a1-b011-bb0680047354",
   "metadata": {},
   "outputs": [],
   "source": [
    "import os\n",
    "import pandas as pd\n",
    "import numpy as np\n",
    "import matplotlib.pyplot as plt\n",
    "os.chdir(\"/home/reffert/DeepAR_InfluenzaForecast\")\n",
    "\n",
    "population_df = pd.read_csv(\"/home/reffert/DeepAR_InfluenzaForecast/Notebooks/DataProcessing/PopulationVector.csv\", sep=\",\")\n",
    "influenza_df = pd.read_csv(\"/home/reffert/DeepAR_InfluenzaForecast/Notebooks/DataProcessing/influenza.csv\", sep=\",\")[[\"year\", \"date\", \"location\", \"week\", \"age_group\", \"value\"]]\n",
    "adjacentMatrix = pd.read_csv(\"/home/reffert/DeepAR_InfluenzaForecast/Notebooks/DataProcessing/AdjacentMatrix.csv\", sep=\",\").rename(columns={\"Unnamed: 0\":\"Index\"})\n",
    "adjacentMatrix = adjacentMatrix.set_index(\"Index\")"
   ]
  },
  {
   "cell_type": "code",
   "execution_count": 4,
   "id": "f375baf1-cf21-4994-b992-811a5f2f7d97",
   "metadata": {},
   "outputs": [
    {
     "ename": "AttributeError",
     "evalue": "'DataFrame' object has no attribute 'Location'",
     "output_type": "error",
     "traceback": [
      "\u001b[0;31m---------------------------------------------------------------------------\u001b[0m",
      "\u001b[0;31mAttributeError\u001b[0m                            Traceback (most recent call last)",
      "Input \u001b[0;32mIn [4]\u001b[0m, in \u001b[0;36m<cell line: 8>\u001b[0;34m()\u001b[0m\n\u001b[1;32m      1\u001b[0m Bw_locations \u001b[38;5;241m=\u001b[39m [\u001b[38;5;124m\"\u001b[39m\u001b[38;5;124mSK Mannheim\u001b[39m\u001b[38;5;124m\"\u001b[39m, \u001b[38;5;124m\"\u001b[39m\u001b[38;5;124mSK Heidelberg\u001b[39m\u001b[38;5;124m\"\u001b[39m, \u001b[38;5;124m\"\u001b[39m\u001b[38;5;124mSK Heilbronn\u001b[39m\u001b[38;5;124m\"\u001b[39m, \u001b[38;5;124m\"\u001b[39m\u001b[38;5;124mSK Karlsruhe\u001b[39m\u001b[38;5;124m\"\u001b[39m, \u001b[38;5;124m\"\u001b[39m\u001b[38;5;124mSK Pforzheim\u001b[39m\u001b[38;5;124m\"\u001b[39m, \u001b[38;5;124m\"\u001b[39m\u001b[38;5;124mSK Stuttgart\u001b[39m\u001b[38;5;124m\"\u001b[39m, \u001b[38;5;124m\"\u001b[39m\u001b[38;5;124mSK Baden-Baden\u001b[39m\u001b[38;5;124m\"\u001b[39m, \u001b[38;5;124m\"\u001b[39m\u001b[38;5;124mSK Ulm\u001b[39m\u001b[38;5;124m\"\u001b[39m, \u001b[38;5;124m\"\u001b[39m\u001b[38;5;124mSK Freiburg i.Breisgau\u001b[39m\u001b[38;5;124m\"\u001b[39m,\n\u001b[1;32m      2\u001b[0m                 \u001b[38;5;124m\"\u001b[39m\u001b[38;5;124mLK Main-Tauber-Kreis\u001b[39m\u001b[38;5;124m\"\u001b[39m, \u001b[38;5;124m\"\u001b[39m\u001b[38;5;124mLK Heilbronn\u001b[39m\u001b[38;5;124m\"\u001b[39m, \u001b[38;5;124m\"\u001b[39m\u001b[38;5;124mLK Hohenlohekreis\u001b[39m\u001b[38;5;124m\"\u001b[39m, \u001b[38;5;124m\"\u001b[39m\u001b[38;5;124mLK Schwäbisch Hall\u001b[39m\u001b[38;5;124m\"\u001b[39m, \u001b[38;5;124m\"\u001b[39m\u001b[38;5;124mLK Ludwigsburg\u001b[39m\u001b[38;5;124m\"\u001b[39m, \u001b[38;5;124m\"\u001b[39m\u001b[38;5;124mLK Rems-Murr-Kreis\u001b[39m\u001b[38;5;124m\"\u001b[39m, \u001b[38;5;124m\"\u001b[39m\u001b[38;5;124mLK Ostalbkreis\u001b[39m\u001b[38;5;124m\"\u001b[39m,\n\u001b[1;32m      3\u001b[0m                 \u001b[38;5;124m\"\u001b[39m\u001b[38;5;124mLK Böblingen\u001b[39m\u001b[38;5;124m\"\u001b[39m, \u001b[38;5;124m\"\u001b[39m\u001b[38;5;124mLK Esslingen\u001b[39m\u001b[38;5;124m\"\u001b[39m, \u001b[38;5;124m\"\u001b[39m\u001b[38;5;124mLK Göppingen\u001b[39m\u001b[38;5;124m\"\u001b[39m, \u001b[38;5;124m\"\u001b[39m\u001b[38;5;124mLK Heidenheim\u001b[39m\u001b[38;5;124m\"\u001b[39m, \u001b[38;5;124m\"\u001b[39m\u001b[38;5;124mLK Rhein-Neckar-Kreis\u001b[39m\u001b[38;5;124m\"\u001b[39m, \u001b[38;5;124m\"\u001b[39m\u001b[38;5;124mLK Neckar-Odenwald-Kreis\u001b[39m\u001b[38;5;124m\"\u001b[39m, \u001b[38;5;124m\"\u001b[39m\u001b[38;5;124mLK Karlsruhe\u001b[39m\u001b[38;5;124m\"\u001b[39m,\n\u001b[1;32m      4\u001b[0m                 \u001b[38;5;124m\"\u001b[39m\u001b[38;5;124mLK Enzkreis\u001b[39m\u001b[38;5;124m\"\u001b[39m, \u001b[38;5;124m\"\u001b[39m\u001b[38;5;124mLK Rastatt\u001b[39m\u001b[38;5;124m\"\u001b[39m, \u001b[38;5;124m\"\u001b[39m\u001b[38;5;124mLK Calw\u001b[39m\u001b[38;5;124m\"\u001b[39m, \u001b[38;5;124m\"\u001b[39m\u001b[38;5;124mLK Freudenstadt\u001b[39m\u001b[38;5;124m\"\u001b[39m, \u001b[38;5;124m\"\u001b[39m\u001b[38;5;124mLK Ortenaukreis\u001b[39m\u001b[38;5;124m\"\u001b[39m, \u001b[38;5;124m\"\u001b[39m\u001b[38;5;124mLK Rottweil\u001b[39m\u001b[38;5;124m\"\u001b[39m, \u001b[38;5;124m\"\u001b[39m\u001b[38;5;124mLK Emmendingen\u001b[39m\u001b[38;5;124m\"\u001b[39m, \u001b[38;5;124m\"\u001b[39m\u001b[38;5;124mLK Schwarzwald-Baar-Kreis\u001b[39m\u001b[38;5;124m\"\u001b[39m, \u001b[38;5;124m\"\u001b[39m\u001b[38;5;124mLK Tuttlingen\u001b[39m\u001b[38;5;124m\"\u001b[39m,\n\u001b[1;32m      5\u001b[0m                 \u001b[38;5;124m\"\u001b[39m\u001b[38;5;124mLK Breisgau-Hochschwarzwald\u001b[39m\u001b[38;5;124m\"\u001b[39m, \u001b[38;5;124m\"\u001b[39m\u001b[38;5;124mLK Lörrach\u001b[39m\u001b[38;5;124m\"\u001b[39m, \u001b[38;5;124m\"\u001b[39m\u001b[38;5;124mLK Waldshut\u001b[39m\u001b[38;5;124m\"\u001b[39m, \u001b[38;5;124m\"\u001b[39m\u001b[38;5;124mLK Konstanz\u001b[39m\u001b[38;5;124m\"\u001b[39m, \u001b[38;5;124m\"\u001b[39m\u001b[38;5;124mLK Tübingen\u001b[39m\u001b[38;5;124m\"\u001b[39m, \u001b[38;5;124m\"\u001b[39m\u001b[38;5;124mLK Reutlingen\u001b[39m\u001b[38;5;124m\"\u001b[39m, \u001b[38;5;124m\"\u001b[39m\u001b[38;5;124mLK Alb-Donau-Kreis\u001b[39m\u001b[38;5;124m\"\u001b[39m, \u001b[38;5;124m\"\u001b[39m\u001b[38;5;124mLK Zollernalbkreis\u001b[39m\u001b[38;5;124m\"\u001b[39m,\n\u001b[1;32m      6\u001b[0m                 \u001b[38;5;124m\"\u001b[39m\u001b[38;5;124mLK Sigmaringen\u001b[39m\u001b[38;5;124m\"\u001b[39m, \u001b[38;5;124m\"\u001b[39m\u001b[38;5;124mLK Biberach\u001b[39m\u001b[38;5;124m\"\u001b[39m, \u001b[38;5;124m\"\u001b[39m\u001b[38;5;124mLK Bodenseekreis\u001b[39m\u001b[38;5;124m\"\u001b[39m, \u001b[38;5;124m\"\u001b[39m\u001b[38;5;124mLK Ravensburg\u001b[39m\u001b[38;5;124m\"\u001b[39m]\n\u001b[1;32m      7\u001b[0m Bw_locations\u001b[38;5;241m.\u001b[39msort()\n\u001b[0;32m----> 8\u001b[0m population_df \u001b[38;5;241m=\u001b[39m population_df[\u001b[43mpopulation_df\u001b[49m\u001b[38;5;241;43m.\u001b[39;49m\u001b[43mLocation\u001b[49m\u001b[38;5;241m.\u001b[39misin(Bw_locations)]\n\u001b[1;32m      9\u001b[0m influenza_df \u001b[38;5;241m=\u001b[39m influenza_df[influenza_df\u001b[38;5;241m.\u001b[39mlocation\u001b[38;5;241m.\u001b[39misin(Bw_locations)]\n\u001b[1;32m     10\u001b[0m adjacentMatrix \u001b[38;5;241m=\u001b[39m adjacentMatrix\u001b[38;5;241m.\u001b[39mloc[adjacentMatrix\u001b[38;5;241m.\u001b[39mindex\u001b[38;5;241m.\u001b[39misin(Bw_locations), Bw_locations]\n",
      "File \u001b[0;32m~/.conda/envs/TEST_ENV/lib/python3.10/site-packages/pandas/core/generic.py:5575\u001b[0m, in \u001b[0;36mNDFrame.__getattr__\u001b[0;34m(self, name)\u001b[0m\n\u001b[1;32m   5568\u001b[0m \u001b[38;5;28;01mif\u001b[39;00m (\n\u001b[1;32m   5569\u001b[0m     name \u001b[38;5;129;01mnot\u001b[39;00m \u001b[38;5;129;01min\u001b[39;00m \u001b[38;5;28mself\u001b[39m\u001b[38;5;241m.\u001b[39m_internal_names_set\n\u001b[1;32m   5570\u001b[0m     \u001b[38;5;129;01mand\u001b[39;00m name \u001b[38;5;129;01mnot\u001b[39;00m \u001b[38;5;129;01min\u001b[39;00m \u001b[38;5;28mself\u001b[39m\u001b[38;5;241m.\u001b[39m_metadata\n\u001b[1;32m   5571\u001b[0m     \u001b[38;5;129;01mand\u001b[39;00m name \u001b[38;5;129;01mnot\u001b[39;00m \u001b[38;5;129;01min\u001b[39;00m \u001b[38;5;28mself\u001b[39m\u001b[38;5;241m.\u001b[39m_accessors\n\u001b[1;32m   5572\u001b[0m     \u001b[38;5;129;01mand\u001b[39;00m \u001b[38;5;28mself\u001b[39m\u001b[38;5;241m.\u001b[39m_info_axis\u001b[38;5;241m.\u001b[39m_can_hold_identifiers_and_holds_name(name)\n\u001b[1;32m   5573\u001b[0m ):\n\u001b[1;32m   5574\u001b[0m     \u001b[38;5;28;01mreturn\u001b[39;00m \u001b[38;5;28mself\u001b[39m[name]\n\u001b[0;32m-> 5575\u001b[0m \u001b[38;5;28;01mreturn\u001b[39;00m \u001b[38;5;28;43mobject\u001b[39;49m\u001b[38;5;241;43m.\u001b[39;49m\u001b[38;5;21;43m__getattribute__\u001b[39;49m\u001b[43m(\u001b[49m\u001b[38;5;28;43mself\u001b[39;49m\u001b[43m,\u001b[49m\u001b[43m \u001b[49m\u001b[43mname\u001b[49m\u001b[43m)\u001b[49m\n",
      "\u001b[0;31mAttributeError\u001b[0m: 'DataFrame' object has no attribute 'Location'"
     ]
    }
   ],
   "source": [
    "Bw_locations = [\"SK Mannheim\", \"SK Heidelberg\", \"SK Heilbronn\", \"SK Karlsruhe\", \"SK Pforzheim\", \"SK Stuttgart\", \"SK Baden-Baden\", \"SK Ulm\", \"SK Freiburg i.Breisgau\",\n",
    "                \"LK Main-Tauber-Kreis\", \"LK Heilbronn\", \"LK Hohenlohekreis\", \"LK Schwäbisch Hall\", \"LK Ludwigsburg\", \"LK Rems-Murr-Kreis\", \"LK Ostalbkreis\",\n",
    "                \"LK Böblingen\", \"LK Esslingen\", \"LK Göppingen\", \"LK Heidenheim\", \"LK Rhein-Neckar-Kreis\", \"LK Neckar-Odenwald-Kreis\", \"LK Karlsruhe\",\n",
    "                \"LK Enzkreis\", \"LK Rastatt\", \"LK Calw\", \"LK Freudenstadt\", \"LK Ortenaukreis\", \"LK Rottweil\", \"LK Emmendingen\", \"LK Schwarzwald-Baar-Kreis\", \"LK Tuttlingen\",\n",
    "                \"LK Breisgau-Hochschwarzwald\", \"LK Lörrach\", \"LK Waldshut\", \"LK Konstanz\", \"LK Tübingen\", \"LK Reutlingen\", \"LK Alb-Donau-Kreis\", \"LK Zollernalbkreis\",\n",
    "                \"LK Sigmaringen\", \"LK Biberach\", \"LK Bodenseekreis\", \"LK Ravensburg\"]\n",
    "Bw_locations.sort()\n",
    "population_df = population_df[population_df.Location.isin(Bw_locations)]\n",
    "influenza_df = influenza_df[influenza_df.location.isin(Bw_locations)]\n",
    "adjacentMatrix = adjacentMatrix.loc[adjacentMatrix.index.isin(Bw_locations), Bw_locations]\n",
    "population_df = population_df.sort_values(by=[\"Location\"]).set_index(\"Location\")\n",
    "print(influenza_df)"
   ]
  },
  {
   "cell_type": "code",
   "execution_count": 3,
   "id": "96143b1f-a770-4449-8999-7785f5ee24bf",
   "metadata": {},
   "outputs": [],
   "source": [
    "adjacentMatrix.to_csv(\"/home/reffert/DeepAR_InfluenzaForecast/Notebooks/DataProcessing/BWDataset/AdjacentMatrixBW.csv\")\n",
    "population_df.to_csv(\"/home/reffert/DeepAR_InfluenzaForecast/Notebooks/DataProcessing/BWDataset/PopulationVectorBW.csv\")\n",
    "influenza_df.to_csv(\"/home/reffert/DeepAR_InfluenzaForecast/Notebooks/DataProcessing/BWDataset/influenzaBW.csv\")"
   ]
  }
 ],
 "metadata": {
  "kernelspec": {
   "display_name": "TEST_PYTHON_KERNEL",
   "language": "python",
   "name": "test_kernel"
  },
  "language_info": {
   "codemirror_mode": {
    "name": "ipython",
    "version": 3
   },
   "file_extension": ".py",
   "mimetype": "text/x-python",
   "name": "python",
   "nbconvert_exporter": "python",
   "pygments_lexer": "ipython3",
   "version": "3.10.6"
  }
 },
 "nbformat": 4,
 "nbformat_minor": 5
}
