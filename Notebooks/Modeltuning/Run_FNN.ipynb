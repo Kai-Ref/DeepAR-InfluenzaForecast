{
 "cells": [
  {
   "cell_type": "code",
   "execution_count": null,
   "id": "7822e4dc-6b55-422f-98a3-4f62cf5c7c9d",
   "metadata": {},
   "outputs": [],
   "source": [
    "import os\n",
    "os.chdir('/home/reffert/DeepAR_InfluenzaForecast')\n",
    "from PythonFiles.Configuration import Configuration\n",
    "from PythonFiles.HpTuning import get_data, objectiveFNN\n",
    "from ray.air import session\n",
    "from ray import tune\n",
    "data_splits_dict = get_data(truncate=False, with_features=True)[0]"
   ]
  },
  {
   "cell_type": "code",
   "execution_count": null,
   "id": "841b4fe2-20f4-4a8d-8e0c-ed58b67536e1",
   "metadata": {},
   "outputs": [],
   "source": [
    "train = data_splits_dict[\"with_features_2001\"][0]\n",
    "test = data_splits_dict[\"with_features_2001\"][1]\n",
    "configuration = Configuration()\n",
    "hp_search_space = {\n",
    "    \"num_hidden_dimensions\": tune.grid_search([[5],[10], [20]]),\n",
    "    \"context_length\":tune.grid_search([4, 52, 104]),\n",
    "    \"epochs\":tune.grid_search([50, 120]),\n",
    "    \"prediction_length\" : tune.grid_search([4, 104]), \n",
    "    \"num_batches_per_epoch\":tune.grid_search([25, 100]),\n",
    "    \"batch_normalization\":tune.grid_search([True, False]),\n",
    "    \"batch_size\":tune.grid_search([20, 64]),\n",
    "    }\n",
    "\n",
    "tuner = tune.Tuner(\n",
    "    tune.with_parameters(objectiveFNN, train=train, test=test, configuration=configuration),\n",
    "    tune_config=tune.TuneConfig(\n",
    "        num_samples = 5,\n",
    "        metric=\"mean_WIS\",\n",
    "        mode=\"min\",\n",
    "        max_concurrent_trials=14,\n",
    "    ),\n",
    "    param_space=hp_search_space,\n",
    ")\n",
    "results = tuner.fit()\n",
    "\n",
    "print(\"Best hyperparameters found were: \", results.get_best_result().config)\n",
    "\n",
    "results_df = results.get_dataframe()\n",
    "print(results_df)\n",
    "results_df.to_csv(\"FNN_Hyperparameter_results_22_05.csv\")"
   ]
  }
 ],
 "metadata": {
  "kernelspec": {
   "display_name": "TEST_PYTHON_KERNEL",
   "language": "python",
   "name": "test_kernel"
  },
  "language_info": {
   "codemirror_mode": {
    "name": "ipython",
    "version": 3
   },
   "file_extension": ".py",
   "mimetype": "text/x-python",
   "name": "python",
   "nbconvert_exporter": "python",
   "pygments_lexer": "ipython3",
   "version": "3.10.6"
  }
 },
 "nbformat": 4,
 "nbformat_minor": 5
}
