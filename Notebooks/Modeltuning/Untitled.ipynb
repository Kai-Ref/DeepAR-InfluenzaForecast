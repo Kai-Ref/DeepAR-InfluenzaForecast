{
 "cells": [
  {
   "cell_type": "code",
   "execution_count": 1,
   "id": "e52d613c-dbb3-4178-87a0-7214a30b2453",
   "metadata": {},
   "outputs": [],
   "source": [
    "import os\n",
    "os.chdir('/home/reffert/DeepAR_InfluenzaForecast')\n",
    "from PythonFiles.model import model, preprocessing, split_forecasts_by_week, plot_coverage, print_forecasts_by_week, forecast_by_week\n",
    "from PythonFiles.Configuration import Configuration\n",
    "import pandas as pd\n",
    "import matplotlib.pyplot as plt\n",
    "import numpy as np\n",
    "from gluonts.dataset.pandas import PandasDataset\n",
    "from gluonts.dataset.rolling_dataset import generate_rolling_dataset,StepStrategy\n",
    "config = Configuration()\n",
    "influenza_df = pd.read_csv(\"/home/reffert/DeepAR_InfluenzaForecast/Notebooks/DataProcessing/influenza.csv\", sep=',')\n",
    "population_df = pd.read_csv(\"/home/reffert/DeepAR_InfluenzaForecast/Notebooks/DataProcessing/PopulationVector.csv\", sep=',')\n",
    "neighbourhood_df = pd.read_csv(\"/home/reffert/DeepAR_InfluenzaForecast/Notebooks/DataProcessing/AdjacentMatrix.csv\", sep=',', index_col=0)"
   ]
  },
  {
   "cell_type": "code",
   "execution_count": 2,
   "id": "45933224-5922-4e1a-b921-9a2c77d756a5",
   "metadata": {},
   "outputs": [
    {
     "name": "stdout",
     "output_type": "stream",
     "text": [
      "2010-01-01 00:00:00 2017-12-31 23:00:00 2019-12-31 23:00:00\n"
     ]
    }
   ],
   "source": [
    "print(config.train_start_time,config.train_end_time,config.test_end_time)"
   ]
  }
 ],
 "metadata": {
  "kernelspec": {
   "display_name": "TEST_PYTHON_KERNEL",
   "language": "python",
   "name": "test_kernel"
  },
  "language_info": {
   "codemirror_mode": {
    "name": "ipython",
    "version": 3
   },
   "file_extension": ".py",
   "mimetype": "text/x-python",
   "name": "python",
   "nbconvert_exporter": "python",
   "pygments_lexer": "ipython3",
   "version": "3.10.6"
  }
 },
 "nbformat": 4,
 "nbformat_minor": 5
}
