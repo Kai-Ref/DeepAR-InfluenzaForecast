{
 "cells": [
  {
   "cell_type": "code",
   "execution_count": 1,
   "id": "697755cd-8b4b-4f5e-be0e-3749b652d2c8",
   "metadata": {},
   "outputs": [],
   "source": [
    "import os\n",
    "os.chdir('/home/reffert/DeepAR_InfluenzaForecast')\n",
    "from PythonFiles.Configuration import Configuration\n",
    "import pandas as pd\n",
    "import matplotlib.pyplot as plt\n",
    "import numpy as np\n",
    "from datetime import datetime\n",
    "\n",
    "\n",
    "import os\n",
    "os.chdir('/home/reffert/DeepAR_InfluenzaForecast')\n",
    "from PythonFiles.Configuration import Configuration\n",
    "from PythonFiles.HpTuning import get_data, objectiveDeepAR\n",
    "from ray.air import session\n",
    "from ray import tune\n",
    "data_splits_dict = get_data(truncate=False, with_features=True)[0]"
   ]
  },
  {
   "cell_type": "code",
   "execution_count": null,
   "id": "7eaada6a-8129-4fa1-954b-4c2425c444fb",
   "metadata": {},
   "outputs": [],
   "source": [
    "hp_search_space = {\n",
    "    \"num_cells\": tune.grid_search([10, 60, 140]),\n",
    "    \"num_layers\": tune.grid_search([6, 12]),\n",
    "    \"context_length\":tune.grid_search([1, 2, 4]),\n",
    "    \"cell_type\":tune.grid_search([\"lstm\"]),\n",
    "    \"epochs\":tune.grid_search([90, 140, 200]),\n",
    "    \"use_feat_static_real\":tune.grid_search([False]),\n",
    "    \"use_feat_dynamic_real\":tune.grid_search([True]),\n",
    "    \"use_feat_static_cat\":tune.grid_search([False, True]),\n",
    "    \"cardinality\":tune.sample_from(lambda spec:[2]*411 if spec.config.use_feat_static_cat else None),\n",
    "}\n",
    "\n",
    "\n",
    "train = data_splits_dict[\"with_features_2001\"][0]\n",
    "test = data_splits_dict[\"with_features_2001\"][1]\n",
    "configuration = Configuration()\n",
    "\n",
    "tuner = tune.Tuner(\n",
    "    tune.with_parameters(objective, train=train, test=test, configuration=configuration),\n",
    "    tune_config=tune.TuneConfig(\n",
    "        num_samples = 6,\n",
    "        metric=\"mean_WIS\",\n",
    "        mode=\"min\",\n",
    "        max_concurrent_trials=10,\n",
    "    ),\n",
    "    param_space=hp_search_space,\n",
    ")\n",
    "results = tuner.fit()\n",
    "\n",
    "print(\"Best hyperparameters found were: \", results.get_best_result().config)\n",
    "\n",
    "results_df = results.get_dataframe()\n",
    "print(results_df)\n",
    "results_df.to_csv(\"Hyperparameter_results_19_05.csv\")"
   ]
  }
 ],
 "metadata": {
  "kernelspec": {
   "display_name": "TEST_PYTHON_KERNEL",
   "language": "python",
   "name": "test_kernel"
  },
  "language_info": {
   "codemirror_mode": {
    "name": "ipython",
    "version": 3
   },
   "file_extension": ".py",
   "mimetype": "text/x-python",
   "name": "python",
   "nbconvert_exporter": "python",
   "pygments_lexer": "ipython3",
   "version": "3.10.6"
  }
 },
 "nbformat": 4,
 "nbformat_minor": 5
}
