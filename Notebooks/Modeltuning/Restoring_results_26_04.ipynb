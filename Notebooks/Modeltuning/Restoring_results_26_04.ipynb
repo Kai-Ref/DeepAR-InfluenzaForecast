{
 "cells": [
  {
   "cell_type": "code",
   "execution_count": 1,
   "id": "2cbe8c5b-f009-4362-bb54-9102e6f87ac3",
   "metadata": {},
   "outputs": [],
   "source": [
    "import os\n",
    "os.chdir('/home/reffert/DeepAR_InfluenzaForecast')\n",
    "from PythonFiles.model import model, preprocessing, split_forecasts_by_week, plot_coverage, print_forecasts_by_week, forecast_by_week, train_test_split, update_deepAR_parameters\n",
    "from PythonFiles.Configuration import Configuration\n",
    "import pandas as pd\n",
    "import matplotlib.pyplot as plt\n",
    "import numpy as np\n",
    "from datetime import datetime\n",
    "from gluonts.mx import Trainer, DeepAREstimator\n",
    "from gluonts.dataset.pandas import PandasDataset\n",
    "from gluonts.dataset.rolling_dataset import generate_rolling_dataset,StepStrategy\n",
    "from gluonts.evaluation import make_evaluation_predictions, Evaluator\n",
    "import ray\n",
    "from ray.air import session\n",
    "from ray import tune\n",
    "from gluonts.mx.distribution import NegativeBinomialOutput\n",
    "config = Configuration()\n",
    "influenza_df = pd.read_csv(\"/home/reffert/DeepAR_InfluenzaForecast/Notebooks/DataProcessing/influenza.csv\", sep=',')\n",
    "population_df = pd.read_csv(\"/home/reffert/DeepAR_InfluenzaForecast/Notebooks/DataProcessing/PopulationVector.csv\", sep=',')\n",
    "neighbourhood_df = pd.read_csv(\"/home/reffert/DeepAR_InfluenzaForecast/Notebooks/DataProcessing/AdjacentMatrix.csv\", sep=',', index_col=0)"
   ]
  },
  {
   "cell_type": "code",
   "execution_count": 2,
   "id": "5a32725c-494c-4dac-b64c-81be11ba9c33",
   "metadata": {},
   "outputs": [],
   "source": [
    "def evaluate(config, train, test, configuration):\n",
    "    deeparestimator = update_deepAR_parameters(configuration, config)\n",
    "    forecasts, tss = model(train, test, deeparestimator)\n",
    "    # Evaluation with the quantiles of the configuration and calculation of the mean_WIS\n",
    "    evaluator = Evaluator(quantiles=configuration.quantiles)    \n",
    "    agg_metrics = evaluator(tss, forecasts)[0]\n",
    "    mean_WIS = agg_metrics[\"mean_absolute_QuantileLoss\"]/(configuration.parameters[\"prediction_length\"]*411)\n",
    "    return mean_WIS\n",
    "\n",
    "def objective(config, train, test, configuration):\n",
    "    score = evaluate(config, train, test, configuration)\n",
    "    session.report({\"mean_WIS\":score})"
   ]
  },
  {
   "cell_type": "code",
   "execution_count": 4,
   "id": "9ba02316-bf0f-49d0-ac51-659343675cd1",
   "metadata": {},
   "outputs": [
    {
     "data": {
      "text/plain": [
       "'\\ntuner = tune.Tuner(\\n    tune.with_parameters(objective, train=train, test=test, configuration=configuration),\\n    tune_config=tune.TuneConfig(\\n        num_samples = 5,\\n        metric=\"mean_WIS\",\\n        mode=\"min\",\\n        max_concurrent_trials=18,\\n    ),\\n    param_space=hp_search_space,\\n)\\nresults = tuner.fit()\\n\\nprint(\"Best hyperparameters found were: \", results.get_best_result().config)\\n\\nresults_df = results.get_dataframe()\\nprint(results_df)\\nresults_df.to_csv(\"Hyperparameter_results_26_04.csv\")'"
      ]
     },
     "execution_count": 4,
     "metadata": {},
     "output_type": "execute_result"
    }
   ],
   "source": [
    "config.train_start_time = datetime(1999,1,1,0,0,0)#datetime(2010,1,1,0,0,0)\n",
    "config.train_end_time = datetime(2016,9,30,23,0,0)\n",
    "config.test_end_time = datetime(2018,9,30,23,0,0)\n",
    "overall_evaluation_df = pd.DataFrame()\n",
    "\n",
    "data_splits_dict = {}\n",
    "output_dict = {}\n",
    "\n",
    "locations = list(influenza_df.location.unique())\n",
    "#Process the df into a uniformly spaced df\n",
    "df = influenza_df.loc[influenza_df.location.isin(locations), ['value', 'location', 'date','week']]\n",
    "df = preprocessing(config, df, check_count=False, output_type=\"corrected_df\")\n",
    "for location in locations:\n",
    "    df.loc[df.location == location, \"population\"] = int(population_df.loc[population_df.Location == location, \"2011\"].values[0])\n",
    "    df.loc[df.location == location, locations] = neighbourhood_df.loc[neighbourhood_df.index==location,locations].values[0].astype(int)\n",
    "\n",
    "data_splits_dict[\"with_features_2001\"] = list(train_test_split(config, df, True))\n",
    "\n",
    "\n",
    "\n",
    "\n",
    "train = data_splits_dict[\"with_features_2001\"][0]\n",
    "test = data_splits_dict[\"with_features_2001\"][1]\n",
    "configuration = Configuration()"
   ]
  },
  {
   "cell_type": "code",
   "execution_count": 8,
   "id": "e06f1471-eb3b-4dc1-ace3-86ab87eb3402",
   "metadata": {},
   "outputs": [
    {
     "name": "stdout",
     "output_type": "stream",
     "text": [
      "Loading results from /home/reffert/ray_results/objective_2023-04-26_11-27-27...\n"
     ]
    },
    {
     "name": "stderr",
     "output_type": "stream",
     "text": [
      "2023-05-09 10:47:00,123\tINFO worker.py:1553 -- Started a local Ray instance.\n",
      "2023-05-09 10:47:13,044\tWARNING tuner_internal.py:292 -- The trainable will be overwritten - this should be done with caution: it's possible to supply an incompatible trainable, and there are no guarantees that the resumed experiment will continue successfully. If you encounter errors during training, ensure that you are passing in the same trainable that was passed into the initial `Tuner` object.\n",
      "2023-05-09 10:47:13,285\tINFO experiment_analysis.py:789 -- No `self.trials`. Drawing logdirs from checkpoint file. This may result in some information that is out of sync, as checkpointing is periodic.\n"
     ]
    }
   ],
   "source": [
    "from ray import tune, air\n",
    "from ray.tune import ResultGrid\n",
    "experiment_path = f\"/home/reffert/ray_results/objective_2023-04-26_11-27-27\"\n",
    "print(f\"Loading results from {experiment_path}...\")\n",
    "ray.init()\n",
    "restored_tuner = tune.Tuner.restore(experiment_path, trainable=tune.with_parameters(objective, train=train, test=test, configuration=configuration))\n",
    "result_grid = restored_tuner.get_results()"
   ]
  },
  {
   "cell_type": "code",
   "execution_count": 14,
   "id": "182c8cb9-99e7-4af2-87aa-34e1ef4c87df",
   "metadata": {},
   "outputs": [
    {
     "name": "stdout",
     "output_type": "stream",
     "text": [
      "        mean_WIS  time_this_iter_s   done  timesteps_total  episodes_total  \\\n",
      "0     496.416393       1013.079154  False              NaN             NaN   \n",
      "1     480.664316        945.227754  False              NaN             NaN   \n",
      "2     530.478650       1166.700580  False              NaN             NaN   \n",
      "3     521.395347       1116.161916  False              NaN             NaN   \n",
      "4     488.141002       1363.722267  False              NaN             NaN   \n",
      "...          ...               ...    ...              ...             ...   \n",
      "3285  402.682369       2392.667870  False              NaN             NaN   \n",
      "3286  611.189208       3448.244290  False              NaN             NaN   \n",
      "3287  479.598384       3336.280444  False              NaN             NaN   \n",
      "3288  571.236422       2320.850677  False              NaN             NaN   \n",
      "3289  444.251225       2063.163950  False              NaN             NaN   \n",
      "\n",
      "      training_iteration     trial_id                     experiment_id  \\\n",
      "0                      1  8f667_00000  364926f6580b455da12dfee563ec9a5a   \n",
      "1                      1  8f667_00001  50504c518ec94106b7d613bb980431a6   \n",
      "2                      1  8f667_00002  f398906bd71644ee8b1ef003176228bb   \n",
      "3                      1  8f667_00003  b21935febb664de7a1f362b185b17554   \n",
      "4                      1  8f667_00004  61797d562aad44d9ad545f955410f4f0   \n",
      "...                  ...          ...                               ...   \n",
      "3285                   1  8f667_03289  de244b4b376e4002879a83dbcb55afd7   \n",
      "3286                   1  8f667_03290  6d4d1631ee6c435fbd3114962ccc5e4f   \n",
      "3287                   1  8f667_03291  b32d47339eee40c4a03863d7fbf4bf7f   \n",
      "3288                   1  8f667_03294  774d31fbea5442e1acd1a5432eaf66b5   \n",
      "3289                   1  8f667_03295  fca21bf4617449b6aa85aea733214aba   \n",
      "\n",
      "                     date   timestamp  ...  \\\n",
      "0     2023-04-26_11-44-25  1682502265  ...   \n",
      "1     2023-04-26_11-43-24  1682502204  ...   \n",
      "2     2023-04-26_11-47-05  1682502425  ...   \n",
      "3     2023-04-26_11-46-15  1682502375  ...   \n",
      "4     2023-04-26_11-50-22  1682502622  ...   \n",
      "...                   ...         ...  ...   \n",
      "3285  2023-05-05_17-23-36  1683300216  ...   \n",
      "3286  2023-05-05_17-42-48  1683301368  ...   \n",
      "3287  2023-05-05_17-44-50  1683301490  ...   \n",
      "3288  2023-05-05_17-37-49  1683301069  ...   \n",
      "3289  2023-05-05_17-34-56  1683300896  ...   \n",
      "\n",
      "                                     config/cardinality  config/cell_type  \\\n",
      "0                                                  None              lstm   \n",
      "1                                                  None               gru   \n",
      "2                                                  None              lstm   \n",
      "3                                                  None               gru   \n",
      "4                                                  None              lstm   \n",
      "...                                                 ...               ...   \n",
      "3285  [2, 2, 2, 2, 2, 2, 2, 2, 2, 2, 2, 2, 2, 2, 2, ...               gru   \n",
      "3286  [2, 2, 2, 2, 2, 2, 2, 2, 2, 2, 2, 2, 2, 2, 2, ...              lstm   \n",
      "3287  [2, 2, 2, 2, 2, 2, 2, 2, 2, 2, 2, 2, 2, 2, 2, ...               gru   \n",
      "3288  [2, 2, 2, 2, 2, 2, 2, 2, 2, 2, 2, 2, 2, 2, 2, ...              lstm   \n",
      "3289  [2, 2, 2, 2, 2, 2, 2, 2, 2, 2, 2, 2, 2, 2, 2, ...               gru   \n",
      "\n",
      "     config/context_length config/epochs  config/num_cells  config/num_layers  \\\n",
      "0                        4            20                40                  1   \n",
      "1                        4            20                40                  1   \n",
      "2                       52            20                40                  1   \n",
      "3                       52            20                40                  1   \n",
      "4                      104            20                40                  1   \n",
      "...                    ...           ...               ...                ...   \n",
      "3285                     4            40                40                  5   \n",
      "3286                    52            40                40                  5   \n",
      "3287                    52            40                40                  5   \n",
      "3288                     4            20                80                  5   \n",
      "3289                     4            20                80                  5   \n",
      "\n",
      "      config/use_feat_dynamic_real  config/use_feat_static_cat  \\\n",
      "0                             True                       False   \n",
      "1                             True                       False   \n",
      "2                             True                       False   \n",
      "3                             True                       False   \n",
      "4                             True                       False   \n",
      "...                            ...                         ...   \n",
      "3285                          True                        True   \n",
      "3286                          True                        True   \n",
      "3287                          True                        True   \n",
      "3288                          True                        True   \n",
      "3289                          True                        True   \n",
      "\n",
      "     config/use_feat_static_real  \\\n",
      "0                          False   \n",
      "1                          False   \n",
      "2                          False   \n",
      "3                          False   \n",
      "4                          False   \n",
      "...                          ...   \n",
      "3285                       False   \n",
      "3286                       False   \n",
      "3287                       False   \n",
      "3288                       False   \n",
      "3289                       False   \n",
      "\n",
      "                                                 logdir  \n",
      "0     /home/reffert/ray_results/objective_2023-04-26...  \n",
      "1     /home/reffert/ray_results/objective_2023-04-26...  \n",
      "2     /home/reffert/ray_results/objective_2023-04-26...  \n",
      "3     /home/reffert/ray_results/objective_2023-04-26...  \n",
      "4     /home/reffert/ray_results/objective_2023-04-26...  \n",
      "...                                                 ...  \n",
      "3285  /home/reffert/ray_results/objective_2023-04-26...  \n",
      "3286  /home/reffert/ray_results/objective_2023-04-26...  \n",
      "3287  /home/reffert/ray_results/objective_2023-04-26...  \n",
      "3288  /home/reffert/ray_results/objective_2023-04-26...  \n",
      "3289  /home/reffert/ray_results/objective_2023-04-26...  \n",
      "\n",
      "[3290 rows x 28 columns]\n"
     ]
    }
   ],
   "source": [
    "results_df = result_grid.get_dataframe()\n",
    "print(results_df)\n",
    "results_df.to_csv(\"Restored_Hyperparameter_results_26_04.csv\")"
   ]
  }
 ],
 "metadata": {
  "kernelspec": {
   "display_name": "TEST_PYTHON_KERNEL",
   "language": "python",
   "name": "test_kernel"
  },
  "language_info": {
   "codemirror_mode": {
    "name": "ipython",
    "version": 3
   },
   "file_extension": ".py",
   "mimetype": "text/x-python",
   "name": "python",
   "nbconvert_exporter": "python",
   "pygments_lexer": "ipython3",
   "version": "3.10.6"
  }
 },
 "nbformat": 4,
 "nbformat_minor": 5
}
