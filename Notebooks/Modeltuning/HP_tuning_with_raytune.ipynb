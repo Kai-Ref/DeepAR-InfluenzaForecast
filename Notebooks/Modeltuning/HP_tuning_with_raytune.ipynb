{
 "cells": [
  {
   "cell_type": "code",
   "execution_count": 1,
   "id": "e52d613c-dbb3-4178-87a0-7214a30b2453",
   "metadata": {},
   "outputs": [],
   "source": [
    "import os\n",
    "os.chdir('/home/reffert/DeepAR_InfluenzaForecast')\n",
    "from PythonFiles.model import model, preprocessing, split_forecasts_by_week, plot_coverage, print_forecasts_by_week, forecast_by_week, train_test_split, update_deepAR_parameters\n",
    "from PythonFiles.Configuration import Configuration\n",
    "import pandas as pd\n",
    "import matplotlib.pyplot as plt\n",
    "import numpy as np\n",
    "from datetime import datetime\n",
    "from gluonts.mx import Trainer, DeepAREstimator\n",
    "from gluonts.dataset.pandas import PandasDataset\n",
    "from gluonts.dataset.rolling_dataset import generate_rolling_dataset,StepStrategy\n",
    "from ray import tune\n",
    "config = Configuration()\n",
    "influenza_df = pd.read_csv(\"/home/reffert/DeepAR_InfluenzaForecast/Notebooks/DataProcessing/influenza.csv\", sep=',')\n",
    "population_df = pd.read_csv(\"/home/reffert/DeepAR_InfluenzaForecast/Notebooks/DataProcessing/PopulationVector.csv\", sep=',')\n",
    "neighbourhood_df = pd.read_csv(\"/home/reffert/DeepAR_InfluenzaForecast/Notebooks/DataProcessing/AdjacentMatrix.csv\", sep=',', index_col=0)"
   ]
  },
  {
   "cell_type": "code",
   "execution_count": 2,
   "id": "7173dc51-a27e-4080-a68e-3c9a84bdc56b",
   "metadata": {},
   "outputs": [],
   "source": [
    "config.train_start_time = datetime(1999,1,1,0,0,0)#datetime(2010,1,1,0,0,0)\n",
    "config.train_end_time = datetime(2016,9,30,23,0,0)\n",
    "config.test_end_time = datetime(2018,9,30,23,0,0)\n",
    "overall_evaluation_df = pd.DataFrame()\n",
    "\n",
    "data_splits_dict = {}\n",
    "output_dict = {}\n",
    "\n",
    "locations = list(influenza_df.location.unique())\n",
    "#Process the df into a uniformly spaced df\n",
    "df = influenza_df.loc[influenza_df.location.isin(locations), ['value', 'location', 'date','week']]\n",
    "df = preprocessing(config, df, check_count=False, output_type=\"corrected_df\")\n",
    "for location in locations:\n",
    "    df.loc[df.location == location, \"population\"] = int(population_df.loc[population_df.Location == location, \"2011\"].values[0])\n",
    "    df.loc[df.location == location, locations] = neighbourhood_df.loc[neighbourhood_df.index==location,locations].values[0]"
   ]
  },
  {
   "cell_type": "code",
   "execution_count": 3,
   "id": "da98eed6-b328-4c16-9062-51104a47afde",
   "metadata": {},
   "outputs": [],
   "source": [
    "# Data split with no additional features and training start in 2010\n",
    "#data_splits_dict[\"without_features_2001\"] = list(train_test_split(config, df, False))\n",
    "data_splits_dict[\"with_features_2001\"] = list(train_test_split(config, df, True))\n",
    "\n",
    "# Change the beginning of the training period\n",
    "#config.train_start_time = datetime(2010,1,1,0,0,0)\n",
    "#data_splits_dict[\"without_features_2010\"] = list(train_test_split(config, df, False))\n",
    "#data_splits_dict[\"with_features_2010\"] = list(train_test_split(config, df, True))"
   ]
  },
  {
   "cell_type": "code",
   "execution_count": 4,
   "id": "45933224-5922-4e1a-b921-9a2c77d756a5",
   "metadata": {},
   "outputs": [],
   "source": [
    "# define a function that should be optimized \n",
    "def train_deepar(config, hp_search_space):\n",
    "    tuned_model = update_deepAR_parameters(config, hp_search_space)\n",
    "    model_dict = {\"DeepAR\":tuned_model}#, \"FFNN\":config.feedforwardestimator}\n",
    "    forecasts_dict, evaluator_df_dict = forecast_by_week(config, data_splits_dict[\"with_features_2001\"][0], data_splits_dict[\"with_features_2001\"][1], locations, model_dict)\n",
    "    evaluation_df = evaluator_df_dict[\"DeepAR\"].copy()\n",
    "    evaluation_df = evaluation_df.loc[evaluation_df.item_id.isin([item_id for item_id in evaluation_df.item_id if \"aggregate\" in item_id]),]        \n",
    "    return evaluation_df.mean_WIS.mean()"
   ]
  },
  {
   "cell_type": "code",
   "execution_count": 5,
   "id": "2dadf220-9932-4587-9eee-429a38008984",
   "metadata": {},
   "outputs": [
    {
     "name": "stdout",
     "output_type": "stream",
     "text": [
      "1\n"
     ]
    },
    {
     "name": "stderr",
     "output_type": "stream",
     "text": [
      "100%|██████████| 50/50 [00:02<00:00, 17.12it/s, epoch=1/2, avg_epoch_loss=2.18]\n",
      "100%|██████████| 50/50 [00:03<00:00, 14.68it/s, epoch=2/2, avg_epoch_loss=0.88]\n"
     ]
    },
    {
     "ename": "KeyboardInterrupt",
     "evalue": "",
     "output_type": "error",
     "traceback": [
      "\u001b[0;31m---------------------------------------------------------------------------\u001b[0m",
      "\u001b[0;31mKeyboardInterrupt\u001b[0m                         Traceback (most recent call last)",
      "Input \u001b[0;32mIn [5]\u001b[0m, in \u001b[0;36m<cell line: 8>\u001b[0;34m()\u001b[0m\n\u001b[1;32m      1\u001b[0m hp_search_space \u001b[38;5;241m=\u001b[39m {\n\u001b[1;32m      2\u001b[0m     \u001b[38;5;124m\"\u001b[39m\u001b[38;5;124mnum_layers\u001b[39m\u001b[38;5;124m\"\u001b[39m: \u001b[38;5;241m1\u001b[39m,\n\u001b[1;32m      3\u001b[0m     \u001b[38;5;124m\"\u001b[39m\u001b[38;5;124mnum_cells\u001b[39m\u001b[38;5;124m\"\u001b[39m: \u001b[38;5;241m2\u001b[39m,\n\u001b[0;32m   (...)\u001b[0m\n\u001b[1;32m      6\u001b[0m     \u001b[38;5;124m\"\u001b[39m\u001b[38;5;124mepochs\u001b[39m\u001b[38;5;124m\"\u001b[39m: \u001b[38;5;241m2\u001b[39m,\n\u001b[1;32m      7\u001b[0m }\n\u001b[0;32m----> 8\u001b[0m evaluation_df \u001b[38;5;241m=\u001b[39m \u001b[43mtrain_deepar\u001b[49m\u001b[43m(\u001b[49m\u001b[43mconfig\u001b[49m\u001b[43m,\u001b[49m\u001b[43m \u001b[49m\u001b[43mhp_search_space\u001b[49m\u001b[43m)\u001b[49m\n\u001b[1;32m      9\u001b[0m \u001b[38;5;28mprint\u001b[39m(\u001b[38;5;241m3\u001b[39m)\n",
      "Input \u001b[0;32mIn [4]\u001b[0m, in \u001b[0;36mtrain_deepar\u001b[0;34m(config, hp_search_space)\u001b[0m\n\u001b[1;32m      4\u001b[0m \u001b[38;5;28mprint\u001b[39m(\u001b[38;5;241m1\u001b[39m)\n\u001b[1;32m      5\u001b[0m model_dict \u001b[38;5;241m=\u001b[39m {\u001b[38;5;124m\"\u001b[39m\u001b[38;5;124mDeepAR\u001b[39m\u001b[38;5;124m\"\u001b[39m:tuned_model}\u001b[38;5;66;03m#, \"FFNN\":config.feedforwardestimator}\u001b[39;00m\n\u001b[0;32m----> 6\u001b[0m forecasts_dict, evaluator_df_dict \u001b[38;5;241m=\u001b[39m \u001b[43mforecast_by_week\u001b[49m\u001b[43m(\u001b[49m\u001b[43mconfig\u001b[49m\u001b[43m,\u001b[49m\u001b[43m \u001b[49m\u001b[43mdata_splits_dict\u001b[49m\u001b[43m[\u001b[49m\u001b[38;5;124;43m\"\u001b[39;49m\u001b[38;5;124;43mwith_features_2001\u001b[39;49m\u001b[38;5;124;43m\"\u001b[39;49m\u001b[43m]\u001b[49m\u001b[43m[\u001b[49m\u001b[38;5;241;43m0\u001b[39;49m\u001b[43m]\u001b[49m\u001b[43m,\u001b[49m\u001b[43m \u001b[49m\u001b[43mdata_splits_dict\u001b[49m\u001b[43m[\u001b[49m\u001b[38;5;124;43m\"\u001b[39;49m\u001b[38;5;124;43mwith_features_2001\u001b[39;49m\u001b[38;5;124;43m\"\u001b[39;49m\u001b[43m]\u001b[49m\u001b[43m[\u001b[49m\u001b[38;5;241;43m1\u001b[39;49m\u001b[43m]\u001b[49m\u001b[43m,\u001b[49m\u001b[43m \u001b[49m\u001b[43mlocations\u001b[49m\u001b[43m,\u001b[49m\u001b[43m \u001b[49m\u001b[43mmodel_dict\u001b[49m\u001b[43m)\u001b[49m\n\u001b[1;32m      7\u001b[0m \u001b[38;5;28mprint\u001b[39m(\u001b[38;5;241m6\u001b[39m)\n\u001b[1;32m      8\u001b[0m evaluation_df \u001b[38;5;241m=\u001b[39m evaluator_df_dict[\u001b[38;5;124m\"\u001b[39m\u001b[38;5;124mDeepAR\u001b[39m\u001b[38;5;124m\"\u001b[39m]\u001b[38;5;241m.\u001b[39mcopy()\n",
      "File \u001b[0;32m~/DeepAR_InfluenzaForecast/PythonFiles/model.py:105\u001b[0m, in \u001b[0;36mforecast_by_week\u001b[0;34m(config, train_set, test_set, locations, models_dict)\u001b[0m\n\u001b[1;32m    103\u001b[0m \u001b[38;5;66;03m#iterate through the given models and fit them\u001b[39;00m\n\u001b[1;32m    104\u001b[0m \u001b[38;5;28;01mfor\u001b[39;00m key \u001b[38;5;129;01min\u001b[39;00m models_dict\u001b[38;5;241m.\u001b[39mkeys():\n\u001b[0;32m--> 105\u001b[0m     forecasts, tss \u001b[38;5;241m=\u001b[39m \u001b[43mmodel\u001b[49m\u001b[43m(\u001b[49m\u001b[43mtrain_set\u001b[49m\u001b[43m,\u001b[49m\u001b[43m \u001b[49m\u001b[43mtest_set\u001b[49m\u001b[43m,\u001b[49m\u001b[43m \u001b[49m\u001b[43mmodels_dict\u001b[49m\u001b[43m[\u001b[49m\u001b[43mkey\u001b[49m\u001b[43m]\u001b[49m\u001b[43m)\u001b[49m\n\u001b[1;32m    106\u001b[0m     \u001b[38;5;66;03m# Splitting the forecasts into their weekly contribution\u001b[39;00m\n\u001b[1;32m    107\u001b[0m     split_tss \u001b[38;5;241m=\u001b[39m split_forecasts_by_week(config, forecasts, tss, locations, \u001b[38;5;241m4\u001b[39m, equal_time_frame\u001b[38;5;241m=\u001b[39m\u001b[38;5;28;01mTrue\u001b[39;00m)[\u001b[38;5;241m1\u001b[39m]\n",
      "File \u001b[0;32m~/DeepAR_InfluenzaForecast/PythonFiles/model.py:95\u001b[0m, in \u001b[0;36mmodel\u001b[0;34m(training_data, test_data, estimator)\u001b[0m\n\u001b[1;32m     89\u001b[0m forecast_it, ts_it \u001b[38;5;241m=\u001b[39m make_evaluation_predictions(\n\u001b[1;32m     90\u001b[0m                      dataset\u001b[38;5;241m=\u001b[39mtest_data,  \n\u001b[1;32m     91\u001b[0m                      predictor\u001b[38;5;241m=\u001b[39mpredictor,  \n\u001b[1;32m     92\u001b[0m                      num_samples\u001b[38;5;241m=\u001b[39m\u001b[38;5;241m100\u001b[39m,  \n\u001b[1;32m     93\u001b[0m                      )\n\u001b[1;32m     94\u001b[0m \u001b[38;5;66;03m# unpack Iterator-Objects into lists\u001b[39;00m\n\u001b[0;32m---> 95\u001b[0m forecasts \u001b[38;5;241m=\u001b[39m \u001b[38;5;28;43mlist\u001b[39;49m\u001b[43m(\u001b[49m\u001b[43mforecast_it\u001b[49m\u001b[43m)\u001b[49m\n\u001b[1;32m     96\u001b[0m tss \u001b[38;5;241m=\u001b[39m \u001b[38;5;28mlist\u001b[39m(ts_it)\n\u001b[1;32m     97\u001b[0m \u001b[38;5;28;01mreturn\u001b[39;00m forecasts, tss\n",
      "File \u001b[0;32m~/.conda/envs/TEST_ENV/lib/python3.10/site-packages/gluonts/mx/model/predictor.py:163\u001b[0m, in \u001b[0;36mGluonPredictor.predict\u001b[0;34m(self, dataset, num_samples, num_workers, num_prefetch, **kwargs)\u001b[0m\n\u001b[1;32m    156\u001b[0m inference_data_loader \u001b[38;5;241m=\u001b[39m InferenceDataLoader(\n\u001b[1;32m    157\u001b[0m     dataset,\n\u001b[1;32m    158\u001b[0m     transform\u001b[38;5;241m=\u001b[39m\u001b[38;5;28mself\u001b[39m\u001b[38;5;241m.\u001b[39minput_transform,\n\u001b[1;32m    159\u001b[0m     batch_size\u001b[38;5;241m=\u001b[39m\u001b[38;5;28mself\u001b[39m\u001b[38;5;241m.\u001b[39mbatch_size,\n\u001b[1;32m    160\u001b[0m     stack_fn\u001b[38;5;241m=\u001b[39mpartial(batchify, ctx\u001b[38;5;241m=\u001b[39m\u001b[38;5;28mself\u001b[39m\u001b[38;5;241m.\u001b[39mctx, dtype\u001b[38;5;241m=\u001b[39m\u001b[38;5;28mself\u001b[39m\u001b[38;5;241m.\u001b[39mdtype),\n\u001b[1;32m    161\u001b[0m )\n\u001b[1;32m    162\u001b[0m \u001b[38;5;28;01mwith\u001b[39;00m mx\u001b[38;5;241m.\u001b[39mContext(\u001b[38;5;28mself\u001b[39m\u001b[38;5;241m.\u001b[39mctx):\n\u001b[0;32m--> 163\u001b[0m     \u001b[38;5;28;01myield from\u001b[39;00m \u001b[38;5;28mself\u001b[39m\u001b[38;5;241m.\u001b[39mforecast_generator(\n\u001b[1;32m    164\u001b[0m         inference_data_loader\u001b[38;5;241m=\u001b[39minference_data_loader,\n\u001b[1;32m    165\u001b[0m         prediction_net\u001b[38;5;241m=\u001b[39m\u001b[38;5;28mself\u001b[39m\u001b[38;5;241m.\u001b[39mprediction_net,\n\u001b[1;32m    166\u001b[0m         input_names\u001b[38;5;241m=\u001b[39m\u001b[38;5;28mself\u001b[39m\u001b[38;5;241m.\u001b[39minput_names,\n\u001b[1;32m    167\u001b[0m         output_transform\u001b[38;5;241m=\u001b[39m\u001b[38;5;28mself\u001b[39m\u001b[38;5;241m.\u001b[39moutput_transform,\n\u001b[1;32m    168\u001b[0m         num_samples\u001b[38;5;241m=\u001b[39mnum_samples,\n\u001b[1;32m    169\u001b[0m     )\n",
      "File \u001b[0;32m~/.conda/envs/TEST_ENV/lib/python3.10/site-packages/gluonts/model/forecast_generator.py:155\u001b[0m, in \u001b[0;36mSampleForecastGenerator.__call__\u001b[0;34m(self, inference_data_loader, prediction_net, input_names, output_transform, num_samples, **kwargs)\u001b[0m\n\u001b[1;32m    153\u001b[0m \u001b[38;5;28;01mfor\u001b[39;00m batch \u001b[38;5;129;01min\u001b[39;00m inference_data_loader:\n\u001b[1;32m    154\u001b[0m     inputs \u001b[38;5;241m=\u001b[39m [batch[k] \u001b[38;5;28;01mfor\u001b[39;00m k \u001b[38;5;129;01min\u001b[39;00m input_names]\n\u001b[0;32m--> 155\u001b[0m     outputs \u001b[38;5;241m=\u001b[39m \u001b[43mpredict_to_numpy\u001b[49m\u001b[43m(\u001b[49m\u001b[43mprediction_net\u001b[49m\u001b[43m,\u001b[49m\u001b[43m \u001b[49m\u001b[43minputs\u001b[49m\u001b[43m)\u001b[49m\n\u001b[1;32m    156\u001b[0m     \u001b[38;5;28;01mif\u001b[39;00m output_transform \u001b[38;5;129;01mis\u001b[39;00m \u001b[38;5;129;01mnot\u001b[39;00m \u001b[38;5;28;01mNone\u001b[39;00m:\n\u001b[1;32m    157\u001b[0m         outputs \u001b[38;5;241m=\u001b[39m output_transform(batch, outputs)\n",
      "File \u001b[0;32m~/.conda/envs/TEST_ENV/lib/python3.10/functools.py:889\u001b[0m, in \u001b[0;36msingledispatch.<locals>.wrapper\u001b[0;34m(*args, **kw)\u001b[0m\n\u001b[1;32m    885\u001b[0m \u001b[38;5;28;01mif\u001b[39;00m \u001b[38;5;129;01mnot\u001b[39;00m args:\n\u001b[1;32m    886\u001b[0m     \u001b[38;5;28;01mraise\u001b[39;00m \u001b[38;5;167;01mTypeError\u001b[39;00m(\u001b[38;5;124mf\u001b[39m\u001b[38;5;124m'\u001b[39m\u001b[38;5;132;01m{\u001b[39;00mfuncname\u001b[38;5;132;01m}\u001b[39;00m\u001b[38;5;124m requires at least \u001b[39m\u001b[38;5;124m'\u001b[39m\n\u001b[1;32m    887\u001b[0m                     \u001b[38;5;124m'\u001b[39m\u001b[38;5;124m1 positional argument\u001b[39m\u001b[38;5;124m'\u001b[39m)\n\u001b[0;32m--> 889\u001b[0m \u001b[38;5;28;01mreturn\u001b[39;00m \u001b[43mdispatch\u001b[49m\u001b[43m(\u001b[49m\u001b[43margs\u001b[49m\u001b[43m[\u001b[49m\u001b[38;5;241;43m0\u001b[39;49m\u001b[43m]\u001b[49m\u001b[38;5;241;43m.\u001b[39;49m\u001b[38;5;18;43m__class__\u001b[39;49m\u001b[43m)\u001b[49m\u001b[43m(\u001b[49m\u001b[38;5;241;43m*\u001b[39;49m\u001b[43margs\u001b[49m\u001b[43m,\u001b[49m\u001b[43m \u001b[49m\u001b[38;5;241;43m*\u001b[39;49m\u001b[38;5;241;43m*\u001b[39;49m\u001b[43mkw\u001b[49m\u001b[43m)\u001b[49m\n",
      "File \u001b[0;32m~/.conda/envs/TEST_ENV/lib/python3.10/site-packages/gluonts/mx/model/predictor.py:48\u001b[0m, in \u001b[0;36m_\u001b[0;34m(prediction_net, args)\u001b[0m\n\u001b[1;32m     46\u001b[0m \u001b[38;5;129m@predict_to_numpy\u001b[39m\u001b[38;5;241m.\u001b[39mregister(mx\u001b[38;5;241m.\u001b[39mgluon\u001b[38;5;241m.\u001b[39mBlock)\n\u001b[1;32m     47\u001b[0m \u001b[38;5;28;01mdef\u001b[39;00m \u001b[38;5;21m_\u001b[39m(prediction_net: mx\u001b[38;5;241m.\u001b[39mgluon\u001b[38;5;241m.\u001b[39mBlock, args) \u001b[38;5;241m-\u001b[39m\u001b[38;5;241m>\u001b[39m np\u001b[38;5;241m.\u001b[39mndarray:\n\u001b[0;32m---> 48\u001b[0m     \u001b[38;5;28;01mreturn\u001b[39;00m \u001b[43mprediction_net\u001b[49m\u001b[43m(\u001b[49m\u001b[38;5;241;43m*\u001b[39;49m\u001b[43margs\u001b[49m\u001b[43m)\u001b[49m\u001b[38;5;241m.\u001b[39masnumpy()\n",
      "File \u001b[0;32m~/.conda/envs/TEST_ENV/lib/python3.10/site-packages/mxnet/gluon/block.py:825\u001b[0m, in \u001b[0;36mBlock.__call__\u001b[0;34m(self, *args)\u001b[0m\n\u001b[1;32m    822\u001b[0m \u001b[38;5;28;01mfor\u001b[39;00m hook \u001b[38;5;129;01min\u001b[39;00m \u001b[38;5;28mself\u001b[39m\u001b[38;5;241m.\u001b[39m_forward_pre_hooks\u001b[38;5;241m.\u001b[39mvalues():\n\u001b[1;32m    823\u001b[0m     hook(\u001b[38;5;28mself\u001b[39m, args)\n\u001b[0;32m--> 825\u001b[0m out \u001b[38;5;241m=\u001b[39m \u001b[38;5;28;43mself\u001b[39;49m\u001b[38;5;241;43m.\u001b[39;49m\u001b[43mforward\u001b[49m\u001b[43m(\u001b[49m\u001b[38;5;241;43m*\u001b[39;49m\u001b[43margs\u001b[49m\u001b[43m)\u001b[49m\n\u001b[1;32m    827\u001b[0m \u001b[38;5;28;01mfor\u001b[39;00m hook \u001b[38;5;129;01min\u001b[39;00m \u001b[38;5;28mself\u001b[39m\u001b[38;5;241m.\u001b[39m_forward_hooks\u001b[38;5;241m.\u001b[39mvalues():\n\u001b[1;32m    828\u001b[0m     hook(\u001b[38;5;28mself\u001b[39m, args, out)\n",
      "File \u001b[0;32m~/.conda/envs/TEST_ENV/lib/python3.10/site-packages/mxnet/gluon/block.py:1502\u001b[0m, in \u001b[0;36mHybridBlock.forward\u001b[0;34m(self, x, *args)\u001b[0m\n\u001b[1;32m   1499\u001b[0m                 v\u001b[38;5;241m.\u001b[39m_finish_deferred_init()\n\u001b[1;32m   1500\u001b[0m             params \u001b[38;5;241m=\u001b[39m {k: v\u001b[38;5;241m.\u001b[39mdata(ctx) \u001b[38;5;28;01mfor\u001b[39;00m k, v \u001b[38;5;129;01min\u001b[39;00m \u001b[38;5;28mself\u001b[39m\u001b[38;5;241m.\u001b[39m_reg_params\u001b[38;5;241m.\u001b[39mitems()}\n\u001b[0;32m-> 1502\u001b[0m         \u001b[38;5;28;01mreturn\u001b[39;00m \u001b[38;5;28;43mself\u001b[39;49m\u001b[38;5;241;43m.\u001b[39;49m\u001b[43mhybrid_forward\u001b[49m\u001b[43m(\u001b[49m\u001b[43mndarray\u001b[49m\u001b[43m,\u001b[49m\u001b[43m \u001b[49m\u001b[43mx\u001b[49m\u001b[43m,\u001b[49m\u001b[43m \u001b[49m\u001b[38;5;241;43m*\u001b[39;49m\u001b[43margs\u001b[49m\u001b[43m,\u001b[49m\u001b[43m \u001b[49m\u001b[38;5;241;43m*\u001b[39;49m\u001b[38;5;241;43m*\u001b[39;49m\u001b[43mparams\u001b[49m\u001b[43m)\u001b[49m\n\u001b[1;32m   1503\u001b[0m params \u001b[38;5;241m=\u001b[39m {i: j\u001b[38;5;241m.\u001b[39mvar() \u001b[38;5;28;01mfor\u001b[39;00m i, j \u001b[38;5;129;01min\u001b[39;00m \u001b[38;5;28mself\u001b[39m\u001b[38;5;241m.\u001b[39m_reg_params\u001b[38;5;241m.\u001b[39mitems()}\n\u001b[1;32m   1504\u001b[0m \u001b[38;5;28;01mwith\u001b[39;00m \u001b[38;5;28mself\u001b[39m\u001b[38;5;241m.\u001b[39mname_scope():\n",
      "File \u001b[0;32m~/.conda/envs/TEST_ENV/lib/python3.10/site-packages/gluonts/mx/model/deepar/_network.py:1155\u001b[0m, in \u001b[0;36mDeepARPredictionNetwork.hybrid_forward\u001b[0;34m(self, F, feat_static_cat, feat_static_real, past_time_feat, past_target, past_observed_values, future_time_feat, past_is_pad)\u001b[0m\n\u001b[1;32m   1137\u001b[0m \u001b[38;5;124;03m\"\"\"\u001b[39;00m\n\u001b[1;32m   1138\u001b[0m \u001b[38;5;124;03mPredicts samples, all tensors should have NTC layout.\u001b[39;00m\n\u001b[1;32m   1139\u001b[0m \u001b[38;5;124;03mParameters\u001b[39;00m\n\u001b[0;32m   (...)\u001b[0m\n\u001b[1;32m   1152\u001b[0m \u001b[38;5;124;03m    Predicted samples\u001b[39;00m\n\u001b[1;32m   1153\u001b[0m \u001b[38;5;124;03m\"\"\"\u001b[39;00m\n\u001b[1;32m   1154\u001b[0m \u001b[38;5;66;03m# unroll the decoder in \"prediction mode\", i.e. with past data only\u001b[39;00m\n\u001b[0;32m-> 1155\u001b[0m _, state, scale, static_feat, imputed_sequence \u001b[38;5;241m=\u001b[39m \u001b[38;5;28;43mself\u001b[39;49m\u001b[38;5;241;43m.\u001b[39;49m\u001b[43munroll_encoder\u001b[49m\u001b[43m(\u001b[49m\n\u001b[1;32m   1156\u001b[0m \u001b[43m    \u001b[49m\u001b[43mF\u001b[49m\u001b[38;5;241;43m=\u001b[39;49m\u001b[43mF\u001b[49m\u001b[43m,\u001b[49m\n\u001b[1;32m   1157\u001b[0m \u001b[43m    \u001b[49m\u001b[43mfeat_static_cat\u001b[49m\u001b[38;5;241;43m=\u001b[39;49m\u001b[43mfeat_static_cat\u001b[49m\u001b[43m,\u001b[49m\n\u001b[1;32m   1158\u001b[0m \u001b[43m    \u001b[49m\u001b[43mfeat_static_real\u001b[49m\u001b[38;5;241;43m=\u001b[39;49m\u001b[43mfeat_static_real\u001b[49m\u001b[43m,\u001b[49m\n\u001b[1;32m   1159\u001b[0m \u001b[43m    \u001b[49m\u001b[43mpast_time_feat\u001b[49m\u001b[38;5;241;43m=\u001b[39;49m\u001b[43mpast_time_feat\u001b[49m\u001b[43m,\u001b[49m\n\u001b[1;32m   1160\u001b[0m \u001b[43m    \u001b[49m\u001b[43mpast_target\u001b[49m\u001b[38;5;241;43m=\u001b[39;49m\u001b[43mpast_target\u001b[49m\u001b[43m,\u001b[49m\n\u001b[1;32m   1161\u001b[0m \u001b[43m    \u001b[49m\u001b[43mpast_is_pad\u001b[49m\u001b[38;5;241;43m=\u001b[39;49m\u001b[43mpast_is_pad\u001b[49m\u001b[43m,\u001b[49m\n\u001b[1;32m   1162\u001b[0m \u001b[43m    \u001b[49m\u001b[43mpast_observed_values\u001b[49m\u001b[38;5;241;43m=\u001b[39;49m\u001b[43mpast_observed_values\u001b[49m\u001b[43m,\u001b[49m\n\u001b[1;32m   1163\u001b[0m \u001b[43m    \u001b[49m\u001b[43mfuture_observed_values\u001b[49m\u001b[38;5;241;43m=\u001b[39;49m\u001b[38;5;28;43;01mNone\u001b[39;49;00m\u001b[43m,\u001b[49m\n\u001b[1;32m   1164\u001b[0m \u001b[43m    \u001b[49m\u001b[43mfuture_time_feat\u001b[49m\u001b[38;5;241;43m=\u001b[39;49m\u001b[38;5;28;43;01mNone\u001b[39;49;00m\u001b[43m,\u001b[49m\n\u001b[1;32m   1165\u001b[0m \u001b[43m    \u001b[49m\u001b[43mfuture_target\u001b[49m\u001b[38;5;241;43m=\u001b[39;49m\u001b[38;5;28;43;01mNone\u001b[39;49;00m\u001b[43m,\u001b[49m\n\u001b[1;32m   1166\u001b[0m \u001b[43m\u001b[49m\u001b[43m)\u001b[49m\n\u001b[1;32m   1167\u001b[0m \u001b[38;5;28;01mreturn\u001b[39;00m \u001b[38;5;28mself\u001b[39m\u001b[38;5;241m.\u001b[39msampling_decoder(\n\u001b[1;32m   1168\u001b[0m     F\u001b[38;5;241m=\u001b[39mF,\n\u001b[1;32m   1169\u001b[0m     past_target\u001b[38;5;241m=\u001b[39mimputed_sequence,\n\u001b[0;32m   (...)\u001b[0m\n\u001b[1;32m   1173\u001b[0m     begin_states\u001b[38;5;241m=\u001b[39mstate,\n\u001b[1;32m   1174\u001b[0m )\n",
      "File \u001b[0;32m~/.conda/envs/TEST_ENV/lib/python3.10/site-packages/gluonts/mx/model/deepar/_network.py:779\u001b[0m, in \u001b[0;36mDeepARNetwork.unroll_encoder_default\u001b[0;34m(self, F, feat_static_cat, feat_static_real, past_time_feat, past_target, past_observed_values, past_is_pad, future_observed_values, future_time_feat, future_target)\u001b[0m\n\u001b[1;32m    767\u001b[0m state \u001b[38;5;241m=\u001b[39m [\n\u001b[1;32m    768\u001b[0m     F\u001b[38;5;241m.\u001b[39mwhere(\n\u001b[1;32m    769\u001b[0m         is_padded_indicator\u001b[38;5;241m.\u001b[39mslice_axis(axis\u001b[38;5;241m=\u001b[39m\u001b[38;5;241m1\u001b[39m, begin\u001b[38;5;241m=\u001b[39m\u001b[38;5;241m0\u001b[39m, end\u001b[38;5;241m=\u001b[39m\u001b[38;5;241m1\u001b[39m)\u001b[38;5;241m.\u001b[39mrepeat(\n\u001b[0;32m   (...)\u001b[0m\n\u001b[1;32m    775\u001b[0m     \u001b[38;5;28;01mfor\u001b[39;00m bs, s \u001b[38;5;129;01min\u001b[39;00m \u001b[38;5;28mzip\u001b[39m(begin_state, state)\n\u001b[1;32m    776\u001b[0m ]\n\u001b[1;32m    778\u001b[0m \u001b[38;5;66;03m# unroll encoder\u001b[39;00m\n\u001b[0;32m--> 779\u001b[0m outputs, state \u001b[38;5;241m=\u001b[39m \u001b[38;5;28;43mself\u001b[39;49m\u001b[38;5;241;43m.\u001b[39;49m\u001b[43mrnn\u001b[49m\u001b[38;5;241;43m.\u001b[39;49m\u001b[43munroll\u001b[49m\u001b[43m(\u001b[49m\n\u001b[1;32m    780\u001b[0m \u001b[43m    \u001b[49m\u001b[43minputs\u001b[49m\u001b[38;5;241;43m=\u001b[39;49m\u001b[43minputs\u001b[49m\u001b[43m,\u001b[49m\n\u001b[1;32m    781\u001b[0m \u001b[43m    \u001b[49m\u001b[43mlength\u001b[49m\u001b[38;5;241;43m=\u001b[39;49m\u001b[43msubsequences_length\u001b[49m\u001b[43m,\u001b[49m\n\u001b[1;32m    782\u001b[0m \u001b[43m    \u001b[49m\u001b[43mlayout\u001b[49m\u001b[38;5;241;43m=\u001b[39;49m\u001b[38;5;124;43m\"\u001b[39;49m\u001b[38;5;124;43mNTC\u001b[39;49m\u001b[38;5;124;43m\"\u001b[39;49m\u001b[43m,\u001b[49m\n\u001b[1;32m    783\u001b[0m \u001b[43m    \u001b[49m\u001b[43mmerge_outputs\u001b[49m\u001b[38;5;241;43m=\u001b[39;49m\u001b[38;5;28;43;01mTrue\u001b[39;49;00m\u001b[43m,\u001b[49m\n\u001b[1;32m    784\u001b[0m \u001b[43m    \u001b[49m\u001b[43mbegin_state\u001b[49m\u001b[38;5;241;43m=\u001b[39;49m\u001b[43mstate\u001b[49m\u001b[43m,\u001b[49m\n\u001b[1;32m    785\u001b[0m \u001b[43m\u001b[49m\u001b[43m)\u001b[49m\n\u001b[1;32m    787\u001b[0m \u001b[38;5;66;03m# outputs: (batch_size, seq_len, num_cells)\u001b[39;00m\n\u001b[1;32m    788\u001b[0m \u001b[38;5;66;03m# state: list of (batch_size, num_cells) tensors\u001b[39;00m\n\u001b[1;32m    789\u001b[0m \u001b[38;5;66;03m# scale: (batch_size, 1, *target_shape)\u001b[39;00m\n\u001b[1;32m    790\u001b[0m \u001b[38;5;66;03m# static_feat: (batch_size, num_features + prod(target_shape))\u001b[39;00m\n\u001b[1;32m    791\u001b[0m \u001b[38;5;28;01mreturn\u001b[39;00m outputs, state, scale, static_feat, sequence\n",
      "File \u001b[0;32m~/.conda/envs/TEST_ENV/lib/python3.10/site-packages/mxnet/gluon/rnn/rnn_cell.py:817\u001b[0m, in \u001b[0;36mHybridSequentialRNNCell.unroll\u001b[0;34m(self, length, inputs, begin_state, layout, merge_outputs, valid_length)\u001b[0m\n\u001b[1;32m    815\u001b[0m     states \u001b[38;5;241m=\u001b[39m begin_state[p:p\u001b[38;5;241m+\u001b[39mn]\n\u001b[1;32m    816\u001b[0m     p \u001b[38;5;241m+\u001b[39m\u001b[38;5;241m=\u001b[39m n\n\u001b[0;32m--> 817\u001b[0m     inputs, states \u001b[38;5;241m=\u001b[39m \u001b[43mcell\u001b[49m\u001b[38;5;241;43m.\u001b[39;49m\u001b[43munroll\u001b[49m\u001b[43m(\u001b[49m\u001b[43mlength\u001b[49m\u001b[43m,\u001b[49m\u001b[43m \u001b[49m\u001b[43minputs\u001b[49m\u001b[38;5;241;43m=\u001b[39;49m\u001b[43minputs\u001b[49m\u001b[43m,\u001b[49m\u001b[43m \u001b[49m\u001b[43mbegin_state\u001b[49m\u001b[38;5;241;43m=\u001b[39;49m\u001b[43mstates\u001b[49m\u001b[43m,\u001b[49m\n\u001b[1;32m    818\u001b[0m \u001b[43m                                 \u001b[49m\u001b[43mlayout\u001b[49m\u001b[38;5;241;43m=\u001b[39;49m\u001b[43mlayout\u001b[49m\u001b[43m,\u001b[49m\n\u001b[1;32m    819\u001b[0m \u001b[43m                                 \u001b[49m\u001b[43mmerge_outputs\u001b[49m\u001b[38;5;241;43m=\u001b[39;49m\u001b[38;5;28;43;01mNone\u001b[39;49;00m\u001b[43m \u001b[49m\u001b[38;5;28;43;01mif\u001b[39;49;00m\u001b[43m \u001b[49m\u001b[43mi\u001b[49m\u001b[43m \u001b[49m\u001b[38;5;241;43m<\u001b[39;49m\u001b[43m \u001b[49m\u001b[43mnum_cells\u001b[49m\u001b[38;5;241;43m-\u001b[39;49m\u001b[38;5;241;43m1\u001b[39;49m\u001b[43m \u001b[49m\u001b[38;5;28;43;01melse\u001b[39;49;00m\u001b[43m \u001b[49m\u001b[43mmerge_outputs\u001b[49m\u001b[43m,\u001b[49m\n\u001b[1;32m    820\u001b[0m \u001b[43m                                 \u001b[49m\u001b[43mvalid_length\u001b[49m\u001b[38;5;241;43m=\u001b[39;49m\u001b[43mvalid_length\u001b[49m\u001b[43m)\u001b[49m\n\u001b[1;32m    821\u001b[0m     next_states\u001b[38;5;241m.\u001b[39mextend(states)\n\u001b[1;32m    823\u001b[0m \u001b[38;5;28;01mreturn\u001b[39;00m inputs, next_states\n",
      "File \u001b[0;32m~/.conda/envs/TEST_ENV/lib/python3.10/site-packages/mxnet/gluon/rnn/rnn_cell.py:257\u001b[0m, in \u001b[0;36mRecurrentCell.unroll\u001b[0;34m(self, length, inputs, begin_state, layout, merge_outputs, valid_length)\u001b[0m\n\u001b[1;32m    255\u001b[0m all_states \u001b[38;5;241m=\u001b[39m []\n\u001b[1;32m    256\u001b[0m \u001b[38;5;28;01mfor\u001b[39;00m i \u001b[38;5;129;01min\u001b[39;00m \u001b[38;5;28mrange\u001b[39m(length):\n\u001b[0;32m--> 257\u001b[0m     output, states \u001b[38;5;241m=\u001b[39m \u001b[38;5;28;43mself\u001b[39;49m\u001b[43m(\u001b[49m\u001b[43minputs\u001b[49m\u001b[43m[\u001b[49m\u001b[43mi\u001b[49m\u001b[43m]\u001b[49m\u001b[43m,\u001b[49m\u001b[43m \u001b[49m\u001b[43mstates\u001b[49m\u001b[43m)\u001b[49m\n\u001b[1;32m    258\u001b[0m     outputs\u001b[38;5;241m.\u001b[39mappend(output)\n\u001b[1;32m    259\u001b[0m     \u001b[38;5;28;01mif\u001b[39;00m valid_length \u001b[38;5;129;01mis\u001b[39;00m \u001b[38;5;129;01mnot\u001b[39;00m \u001b[38;5;28;01mNone\u001b[39;00m:\n",
      "File \u001b[0;32m~/.conda/envs/TEST_ENV/lib/python3.10/site-packages/mxnet/gluon/block.py:825\u001b[0m, in \u001b[0;36mBlock.__call__\u001b[0;34m(self, *args)\u001b[0m\n\u001b[1;32m    822\u001b[0m \u001b[38;5;28;01mfor\u001b[39;00m hook \u001b[38;5;129;01min\u001b[39;00m \u001b[38;5;28mself\u001b[39m\u001b[38;5;241m.\u001b[39m_forward_pre_hooks\u001b[38;5;241m.\u001b[39mvalues():\n\u001b[1;32m    823\u001b[0m     hook(\u001b[38;5;28mself\u001b[39m, args)\n\u001b[0;32m--> 825\u001b[0m out \u001b[38;5;241m=\u001b[39m \u001b[38;5;28;43mself\u001b[39;49m\u001b[38;5;241;43m.\u001b[39;49m\u001b[43mforward\u001b[49m\u001b[43m(\u001b[49m\u001b[38;5;241;43m*\u001b[39;49m\u001b[43margs\u001b[49m\u001b[43m)\u001b[49m\n\u001b[1;32m    827\u001b[0m \u001b[38;5;28;01mfor\u001b[39;00m hook \u001b[38;5;129;01min\u001b[39;00m \u001b[38;5;28mself\u001b[39m\u001b[38;5;241m.\u001b[39m_forward_hooks\u001b[38;5;241m.\u001b[39mvalues():\n\u001b[1;32m    828\u001b[0m     hook(\u001b[38;5;28mself\u001b[39m, args, out)\n",
      "File \u001b[0;32m~/.conda/envs/TEST_ENV/lib/python3.10/site-packages/mxnet/gluon/rnn/rnn_cell.py:315\u001b[0m, in \u001b[0;36mRecurrentCell.forward\u001b[0;34m(self, inputs, states)\u001b[0m\n\u001b[1;32m    313\u001b[0m \u001b[38;5;66;03m# pylint: disable= arguments-differ\u001b[39;00m\n\u001b[1;32m    314\u001b[0m \u001b[38;5;28mself\u001b[39m\u001b[38;5;241m.\u001b[39m_counter \u001b[38;5;241m+\u001b[39m\u001b[38;5;241m=\u001b[39m \u001b[38;5;241m1\u001b[39m\n\u001b[0;32m--> 315\u001b[0m \u001b[38;5;28;01mreturn\u001b[39;00m \u001b[38;5;28;43msuper\u001b[39;49m\u001b[43m(\u001b[49m\u001b[43mRecurrentCell\u001b[49m\u001b[43m,\u001b[49m\u001b[43m \u001b[49m\u001b[38;5;28;43mself\u001b[39;49m\u001b[43m)\u001b[49m\u001b[38;5;241;43m.\u001b[39;49m\u001b[43mforward\u001b[49m\u001b[43m(\u001b[49m\u001b[43minputs\u001b[49m\u001b[43m,\u001b[49m\u001b[43m \u001b[49m\u001b[43mstates\u001b[49m\u001b[43m)\u001b[49m\n",
      "File \u001b[0;32m~/.conda/envs/TEST_ENV/lib/python3.10/site-packages/mxnet/gluon/block.py:1502\u001b[0m, in \u001b[0;36mHybridBlock.forward\u001b[0;34m(self, x, *args)\u001b[0m\n\u001b[1;32m   1499\u001b[0m                 v\u001b[38;5;241m.\u001b[39m_finish_deferred_init()\n\u001b[1;32m   1500\u001b[0m             params \u001b[38;5;241m=\u001b[39m {k: v\u001b[38;5;241m.\u001b[39mdata(ctx) \u001b[38;5;28;01mfor\u001b[39;00m k, v \u001b[38;5;129;01min\u001b[39;00m \u001b[38;5;28mself\u001b[39m\u001b[38;5;241m.\u001b[39m_reg_params\u001b[38;5;241m.\u001b[39mitems()}\n\u001b[0;32m-> 1502\u001b[0m         \u001b[38;5;28;01mreturn\u001b[39;00m \u001b[38;5;28;43mself\u001b[39;49m\u001b[38;5;241;43m.\u001b[39;49m\u001b[43mhybrid_forward\u001b[49m\u001b[43m(\u001b[49m\u001b[43mndarray\u001b[49m\u001b[43m,\u001b[49m\u001b[43m \u001b[49m\u001b[43mx\u001b[49m\u001b[43m,\u001b[49m\u001b[43m \u001b[49m\u001b[38;5;241;43m*\u001b[39;49m\u001b[43margs\u001b[49m\u001b[43m,\u001b[49m\u001b[43m \u001b[49m\u001b[38;5;241;43m*\u001b[39;49m\u001b[38;5;241;43m*\u001b[39;49m\u001b[43mparams\u001b[49m\u001b[43m)\u001b[49m\n\u001b[1;32m   1503\u001b[0m params \u001b[38;5;241m=\u001b[39m {i: j\u001b[38;5;241m.\u001b[39mvar() \u001b[38;5;28;01mfor\u001b[39;00m i, j \u001b[38;5;129;01min\u001b[39;00m \u001b[38;5;28mself\u001b[39m\u001b[38;5;241m.\u001b[39m_reg_params\u001b[38;5;241m.\u001b[39mitems()}\n\u001b[1;32m   1504\u001b[0m \u001b[38;5;28;01mwith\u001b[39;00m \u001b[38;5;28mself\u001b[39m\u001b[38;5;241m.\u001b[39mname_scope():\n",
      "File \u001b[0;32m~/.conda/envs/TEST_ENV/lib/python3.10/site-packages/mxnet/gluon/rnn/rnn_cell.py:969\u001b[0m, in \u001b[0;36mZoneoutCell.hybrid_forward\u001b[0;34m(self, F, inputs, states)\u001b[0m\n\u001b[1;32m    965\u001b[0m     prev_output \u001b[38;5;241m=\u001b[39m F\u001b[38;5;241m.\u001b[39mzeros_like(next_output)\n\u001b[1;32m    967\u001b[0m output \u001b[38;5;241m=\u001b[39m (F\u001b[38;5;241m.\u001b[39mwhere(mask(p_outputs, next_output), next_output, prev_output)\n\u001b[1;32m    968\u001b[0m           \u001b[38;5;28;01mif\u001b[39;00m p_outputs \u001b[38;5;241m!=\u001b[39m \u001b[38;5;241m0.\u001b[39m \u001b[38;5;28;01melse\u001b[39;00m next_output)\n\u001b[0;32m--> 969\u001b[0m states \u001b[38;5;241m=\u001b[39m ([F\u001b[38;5;241m.\u001b[39mwhere(mask(p_states, new_s), new_s, old_s) \u001b[38;5;28;01mfor\u001b[39;00m new_s, old_s \u001b[38;5;129;01min\u001b[39;00m\n\u001b[1;32m    970\u001b[0m            \u001b[38;5;28mzip\u001b[39m(next_states, states)] \u001b[38;5;28;01mif\u001b[39;00m p_states \u001b[38;5;241m!=\u001b[39m \u001b[38;5;241m0.\u001b[39m \u001b[38;5;28;01melse\u001b[39;00m next_states)\n\u001b[1;32m    972\u001b[0m \u001b[38;5;28mself\u001b[39m\u001b[38;5;241m.\u001b[39m_prev_output \u001b[38;5;241m=\u001b[39m output\n\u001b[1;32m    974\u001b[0m \u001b[38;5;28;01mreturn\u001b[39;00m output, states\n",
      "File \u001b[0;32m~/.conda/envs/TEST_ENV/lib/python3.10/site-packages/mxnet/gluon/rnn/rnn_cell.py:969\u001b[0m, in \u001b[0;36m<listcomp>\u001b[0;34m(.0)\u001b[0m\n\u001b[1;32m    965\u001b[0m     prev_output \u001b[38;5;241m=\u001b[39m F\u001b[38;5;241m.\u001b[39mzeros_like(next_output)\n\u001b[1;32m    967\u001b[0m output \u001b[38;5;241m=\u001b[39m (F\u001b[38;5;241m.\u001b[39mwhere(mask(p_outputs, next_output), next_output, prev_output)\n\u001b[1;32m    968\u001b[0m           \u001b[38;5;28;01mif\u001b[39;00m p_outputs \u001b[38;5;241m!=\u001b[39m \u001b[38;5;241m0.\u001b[39m \u001b[38;5;28;01melse\u001b[39;00m next_output)\n\u001b[0;32m--> 969\u001b[0m states \u001b[38;5;241m=\u001b[39m ([\u001b[43mF\u001b[49m\u001b[38;5;241;43m.\u001b[39;49m\u001b[43mwhere\u001b[49m\u001b[43m(\u001b[49m\u001b[43mmask\u001b[49m\u001b[43m(\u001b[49m\u001b[43mp_states\u001b[49m\u001b[43m,\u001b[49m\u001b[43m \u001b[49m\u001b[43mnew_s\u001b[49m\u001b[43m)\u001b[49m\u001b[43m,\u001b[49m\u001b[43m \u001b[49m\u001b[43mnew_s\u001b[49m\u001b[43m,\u001b[49m\u001b[43m \u001b[49m\u001b[43mold_s\u001b[49m\u001b[43m)\u001b[49m \u001b[38;5;28;01mfor\u001b[39;00m new_s, old_s \u001b[38;5;129;01min\u001b[39;00m\n\u001b[1;32m    970\u001b[0m            \u001b[38;5;28mzip\u001b[39m(next_states, states)] \u001b[38;5;28;01mif\u001b[39;00m p_states \u001b[38;5;241m!=\u001b[39m \u001b[38;5;241m0.\u001b[39m \u001b[38;5;28;01melse\u001b[39;00m next_states)\n\u001b[1;32m    972\u001b[0m \u001b[38;5;28mself\u001b[39m\u001b[38;5;241m.\u001b[39m_prev_output \u001b[38;5;241m=\u001b[39m output\n\u001b[1;32m    974\u001b[0m \u001b[38;5;28;01mreturn\u001b[39;00m output, states\n",
      "File \u001b[0;32m<string>:64\u001b[0m, in \u001b[0;36mwhere\u001b[0;34m(condition, x, y, out, name, **kwargs)\u001b[0m\n",
      "File \u001b[0;32m~/.conda/envs/TEST_ENV/lib/python3.10/site-packages/mxnet/_ctypes/ndarray.py:82\u001b[0m, in \u001b[0;36m_imperative_invoke\u001b[0;34m(handle, ndargs, keys, vals, out, is_np_op, output_is_list)\u001b[0m\n\u001b[1;32m     78\u001b[0m \u001b[38;5;66;03m# return output stypes to avoid the c_api call for checking\u001b[39;00m\n\u001b[1;32m     79\u001b[0m \u001b[38;5;66;03m# a handle's stype in _ndarray_cls\u001b[39;00m\n\u001b[1;32m     80\u001b[0m out_stypes \u001b[38;5;241m=\u001b[39m ctypes\u001b[38;5;241m.\u001b[39mPOINTER(ctypes\u001b[38;5;241m.\u001b[39mc_int)()\n\u001b[0;32m---> 82\u001b[0m check_call(\u001b[43m_LIB\u001b[49m\u001b[38;5;241;43m.\u001b[39;49m\u001b[43mMXImperativeInvokeEx\u001b[49m\u001b[43m(\u001b[49m\n\u001b[1;32m     83\u001b[0m \u001b[43m    \u001b[49m\u001b[43mctypes\u001b[49m\u001b[38;5;241;43m.\u001b[39;49m\u001b[43mc_void_p\u001b[49m\u001b[43m(\u001b[49m\u001b[43mhandle\u001b[49m\u001b[43m)\u001b[49m\u001b[43m,\u001b[49m\n\u001b[1;32m     84\u001b[0m \u001b[43m    \u001b[49m\u001b[43mctypes\u001b[49m\u001b[38;5;241;43m.\u001b[39;49m\u001b[43mc_int\u001b[49m\u001b[43m(\u001b[49m\u001b[38;5;28;43mlen\u001b[39;49m\u001b[43m(\u001b[49m\u001b[43mndargs\u001b[49m\u001b[43m)\u001b[49m\u001b[43m)\u001b[49m\u001b[43m,\u001b[49m\n\u001b[1;32m     85\u001b[0m \u001b[43m    \u001b[49m\u001b[43mc_handle_array\u001b[49m\u001b[43m(\u001b[49m\u001b[43mndargs\u001b[49m\u001b[43m)\u001b[49m\u001b[43m,\u001b[49m\n\u001b[1;32m     86\u001b[0m \u001b[43m    \u001b[49m\u001b[43mctypes\u001b[49m\u001b[38;5;241;43m.\u001b[39;49m\u001b[43mbyref\u001b[49m\u001b[43m(\u001b[49m\u001b[43mnum_output\u001b[49m\u001b[43m)\u001b[49m\u001b[43m,\u001b[49m\n\u001b[1;32m     87\u001b[0m \u001b[43m    \u001b[49m\u001b[43mctypes\u001b[49m\u001b[38;5;241;43m.\u001b[39;49m\u001b[43mbyref\u001b[49m\u001b[43m(\u001b[49m\u001b[43moutput_vars\u001b[49m\u001b[43m)\u001b[49m\u001b[43m,\u001b[49m\n\u001b[1;32m     88\u001b[0m \u001b[43m    \u001b[49m\u001b[43mctypes\u001b[49m\u001b[38;5;241;43m.\u001b[39;49m\u001b[43mc_int\u001b[49m\u001b[43m(\u001b[49m\u001b[38;5;28;43mlen\u001b[39;49m\u001b[43m(\u001b[49m\u001b[43mkeys\u001b[49m\u001b[43m)\u001b[49m\u001b[43m)\u001b[49m\u001b[43m,\u001b[49m\n\u001b[1;32m     89\u001b[0m \u001b[43m    \u001b[49m\u001b[43mc_str_array\u001b[49m\u001b[43m(\u001b[49m\u001b[43mkeys\u001b[49m\u001b[43m)\u001b[49m\u001b[43m,\u001b[49m\n\u001b[1;32m     90\u001b[0m \u001b[43m    \u001b[49m\u001b[43mc_str_array\u001b[49m\u001b[43m(\u001b[49m\u001b[43m[\u001b[49m\u001b[38;5;28;43mstr\u001b[39;49m\u001b[43m(\u001b[49m\u001b[43ms\u001b[49m\u001b[43m)\u001b[49m\u001b[43m \u001b[49m\u001b[38;5;28;43;01mfor\u001b[39;49;00m\u001b[43m \u001b[49m\u001b[43ms\u001b[49m\u001b[43m \u001b[49m\u001b[38;5;129;43;01min\u001b[39;49;00m\u001b[43m \u001b[49m\u001b[43mvals\u001b[49m\u001b[43m]\u001b[49m\u001b[43m)\u001b[49m\u001b[43m,\u001b[49m\n\u001b[1;32m     91\u001b[0m \u001b[43m    \u001b[49m\u001b[43mctypes\u001b[49m\u001b[38;5;241;43m.\u001b[39;49m\u001b[43mbyref\u001b[49m\u001b[43m(\u001b[49m\u001b[43mout_stypes\u001b[49m\u001b[43m)\u001b[49m\u001b[43m)\u001b[49m)\n\u001b[1;32m     93\u001b[0m create_ndarray_fn \u001b[38;5;241m=\u001b[39m _global_var\u001b[38;5;241m.\u001b[39m_np_ndarray_cls \u001b[38;5;28;01mif\u001b[39;00m is_np_op \u001b[38;5;28;01melse\u001b[39;00m _global_var\u001b[38;5;241m.\u001b[39m_ndarray_cls\n\u001b[1;32m     94\u001b[0m \u001b[38;5;28;01mif\u001b[39;00m original_output \u001b[38;5;129;01mis\u001b[39;00m \u001b[38;5;129;01mnot\u001b[39;00m \u001b[38;5;28;01mNone\u001b[39;00m:\n",
      "\u001b[0;31mKeyboardInterrupt\u001b[0m: "
     ]
    }
   ],
   "source": [
    "hp_search_space = {\n",
    "    \"num_layers\": 1,\n",
    "    \"num_cells\": 2,\n",
    "    \"learning_rate\": 1e-1,\n",
    "    #\"batch_size\":2,\n",
    "    \"epochs\": 2,\n",
    "}\n",
    "evaluation_df = train_deepar(config, hp_search_space)\n",
    "print(3)"
   ]
  },
  {
   "cell_type": "code",
   "execution_count": null,
   "id": "d7a48b36-1580-4a46-bc13-79a5478e8c6c",
   "metadata": {},
   "outputs": [],
   "source": []
  },
  {
   "cell_type": "code",
   "execution_count": null,
   "id": "9909fced-2863-4b9f-8af0-6ea5c66c1ec5",
   "metadata": {},
   "outputs": [],
   "source": [
    "hp_search_space = {\n",
    "    \"num_layers\": tune.choice([1, 2, 3]),\n",
    "    \"num_cells\": tune.choice([32, 64, 128]),\n",
    "    \"learning_rate\": tune.loguniform(1e-5, 1e-1),\n",
    "    \"dropout_rate\": tune.uniform(0.1, 0.3),\n",
    "    \"batch_size\": tune.choice([32, 64, 128]),\n",
    "    \"epochs\": tune.choice([10, 20, 30])\n",
    "}\n",
    "\n",
    "print(evaluation_df)\n",
    "print(evaluation_df.mean_WIS.mean())"
   ]
  }
 ],
 "metadata": {
  "kernelspec": {
   "display_name": "TEST_PYTHON_KERNEL",
   "language": "python",
   "name": "test_kernel"
  },
  "language_info": {
   "codemirror_mode": {
    "name": "ipython",
    "version": 3
   },
   "file_extension": ".py",
   "mimetype": "text/x-python",
   "name": "python",
   "nbconvert_exporter": "python",
   "pygments_lexer": "ipython3",
   "version": "3.10.6"
  }
 },
 "nbformat": 4,
 "nbformat_minor": 5
}
