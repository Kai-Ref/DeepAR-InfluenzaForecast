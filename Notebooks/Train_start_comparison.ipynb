{
 "cells": [
  {
   "cell_type": "code",
   "execution_count": 1,
   "id": "c900f869-5c04-458b-8c3d-8ae03e89083e",
   "metadata": {},
   "outputs": [],
   "source": [
    "import os\n",
    "os.chdir('/home/reffert/DeepAR_InfluenzaForecast')\n",
    "from PythonFiles.model import model, preprocessing, split_forecasts_by_week, plot_coverage, print_forecasts_by_week, forecast_by_week, train_test_split, update_deepAR_parameters\n",
    "from PythonFiles.Configuration import Configuration\n",
    "import pandas as pd\n",
    "import matplotlib.pyplot as plt\n",
    "import numpy as np\n",
    "from datetime import datetime\n",
    "from gluonts.dataset.pandas import PandasDataset\n",
    "from gluonts.dataset.rolling_dataset import generate_rolling_dataset,StepStrategy\n",
    "config = Configuration()\n",
    "influenza_df = pd.read_csv(\"/home/reffert/DeepAR_InfluenzaForecast/Notebooks/DataProcessing/influenza.csv\", sep=',')\n",
    "population_df = pd.read_csv(\"/home/reffert/DeepAR_InfluenzaForecast/Notebooks/DataProcessing/PopulationVector.csv\", sep=',')\n",
    "neighbourhood_df = pd.read_csv(\"/home/reffert/DeepAR_InfluenzaForecast/Notebooks/DataProcessing/AdjacentMatrix.csv\", sep=',', index_col=0)"
   ]
  },
  {
   "cell_type": "code",
   "execution_count": 2,
   "id": "bfbc4fb2-c18f-4318-957c-6f0f17bdfd75",
   "metadata": {},
   "outputs": [],
   "source": [
    "config.train_start_time = datetime(1999,1,1,0,0,0)#datetime(2010,1,1,0,0,0)\n",
    "config.train_end_time = datetime(2016,9,30,23,0,0)\n",
    "config.test_end_time = datetime(2018,9,30,23,0,0)\n",
    "overall_evaluation_df = pd.DataFrame()\n",
    "\n",
    "data_splits_dict = {}\n",
    "output_dict = {}\n",
    "\n",
    "locations = list(influenza_df.location.unique())\n",
    "#Process the df into a uniformly spaced df\n",
    "df = influenza_df.loc[influenza_df.location.isin(locations), ['value', 'location', 'date','week']]\n",
    "df = preprocessing(config, df, check_count=False, output_type=\"corrected_df\")\n",
    "for location in locations:\n",
    "    df.loc[df.location == location, \"population\"] = int(population_df.loc[population_df.Location == location, \"2011\"].values[0])\n",
    "    df.loc[df.location == location, locations] = neighbourhood_df.loc[neighbourhood_df.index==location,locations].values[0]"
   ]
  },
  {
   "cell_type": "markdown",
   "id": "78474246-f389-46ee-be47-4de094bd61e8",
   "metadata": {
    "tags": []
   },
   "source": [
    "# Creating the different splits"
   ]
  },
  {
   "cell_type": "code",
   "execution_count": 3,
   "id": "bfd2a5fd-19ff-4781-9d77-d171295cffbd",
   "metadata": {},
   "outputs": [],
   "source": [
    "# Data split with no additional features and training start in 2010\n",
    "#data_splits_dict[\"without_features_2001\"] = list(train_test_split(config, df, False))\n",
    "data_splits_dict[\"2001\"] = list(train_test_split(config, df, True))\n",
    "\n",
    "# Change the beginning of the training period\n",
    "config.train_start_time = datetime(2010,1,1,0,0,0)\n",
    "#data_splits_dict[\"without_features_2010\"] = list(train_test_split(config, df, False))\n",
    "data_splits_dict[\"2010\"] = list(train_test_split(config, df, True))"
   ]
  },
  {
   "cell_type": "markdown",
   "id": "8a81ddd0-a9e9-43c4-a2b5-da51d4e8db2b",
   "metadata": {},
   "source": [
    "# Model fitting"
   ]
  },
  {
   "cell_type": "code",
   "execution_count": 4,
   "id": "389d5812-3a28-4d3f-8c0c-e3fab2cb50b2",
   "metadata": {
    "tags": []
   },
   "outputs": [
    {
     "name": "stdout",
     "output_type": "stream",
     "text": [
      "2001\n"
     ]
    },
    {
     "name": "stderr",
     "output_type": "stream",
     "text": [
      "100%|██████████| 50/50 [00:38<00:00,  1.30it/s, epoch=1/8, avg_epoch_loss=1.17]\n",
      "100%|██████████| 50/50 [00:39<00:00,  1.25it/s, epoch=2/8, avg_epoch_loss=0.891]\n",
      "100%|██████████| 50/50 [00:39<00:00,  1.27it/s, epoch=3/8, avg_epoch_loss=0.748]\n",
      "100%|██████████| 50/50 [00:30<00:00,  1.64it/s, epoch=4/8, avg_epoch_loss=0.855]\n",
      "100%|██████████| 50/50 [00:30<00:00,  1.63it/s, epoch=5/8, avg_epoch_loss=0.746]\n",
      "100%|██████████| 50/50 [00:31<00:00,  1.58it/s, epoch=6/8, avg_epoch_loss=0.695]\n",
      "100%|██████████| 50/50 [00:31<00:00,  1.61it/s, epoch=7/8, avg_epoch_loss=0.704]\n",
      "100%|██████████| 50/50 [00:30<00:00,  1.61it/s, epoch=8/8, avg_epoch_loss=0.624]\n"
     ]
    },
    {
     "name": "stdout",
     "output_type": "stream",
     "text": [
      "Ende make_evaluation_prediction: 2023-03-24 13:58:48.176837\n",
      "Ende umformen in Listen: 2023-03-24 14:00:32.044017\n"
     ]
    },
    {
     "name": "stderr",
     "output_type": "stream",
     "text": [
      "Running evaluation: 411it [00:02, 166.98it/s]\n",
      "/home/reffert/.conda/envs/TEST_ENV/lib/python3.10/site-packages/pandas/core/dtypes/cast.py:1181: UserWarning: Warning: converting a masked element to nan.\n",
      "  return arr.astype(dtype, copy=True)\n",
      "Running evaluation: 411it [00:02, 167.46it/s]\n",
      "/home/reffert/.conda/envs/TEST_ENV/lib/python3.10/site-packages/pandas/core/dtypes/cast.py:1181: UserWarning: Warning: converting a masked element to nan.\n",
      "  return arr.astype(dtype, copy=True)\n",
      "Running evaluation: 411it [00:02, 167.86it/s]\n",
      "/home/reffert/.conda/envs/TEST_ENV/lib/python3.10/site-packages/pandas/core/dtypes/cast.py:1181: UserWarning: Warning: converting a masked element to nan.\n",
      "  return arr.astype(dtype, copy=True)\n",
      "Running evaluation: 411it [00:02, 168.82it/s]\n",
      "/home/reffert/.conda/envs/TEST_ENV/lib/python3.10/site-packages/pandas/core/dtypes/cast.py:1181: UserWarning: Warning: converting a masked element to nan.\n",
      "  return arr.astype(dtype, copy=True)\n",
      "100%|██████████| 50/50 [00:28<00:00,  1.74it/s, epoch=1/8, avg_epoch_loss=1.73]\n",
      "100%|██████████| 50/50 [00:28<00:00,  1.75it/s, epoch=2/8, avg_epoch_loss=1.51]\n",
      "100%|██████████| 50/50 [00:29<00:00,  1.70it/s, epoch=3/8, avg_epoch_loss=1.41]\n",
      "100%|██████████| 50/50 [00:29<00:00,  1.68it/s, epoch=4/8, avg_epoch_loss=1.27]\n",
      "100%|██████████| 50/50 [00:29<00:00,  1.71it/s, epoch=5/8, avg_epoch_loss=1.27]\n",
      "100%|██████████| 50/50 [00:28<00:00,  1.76it/s, epoch=6/8, avg_epoch_loss=1.17]\n",
      "100%|██████████| 50/50 [00:28<00:00,  1.77it/s, epoch=7/8, avg_epoch_loss=1.23]\n",
      "100%|██████████| 50/50 [00:28<00:00,  1.76it/s, epoch=8/8, avg_epoch_loss=1.02]\n"
     ]
    },
    {
     "name": "stdout",
     "output_type": "stream",
     "text": [
      "Ende make_evaluation_prediction: 2023-03-24 14:04:41.466097\n",
      "Ende umformen in Listen: 2023-03-24 14:04:56.879970\n"
     ]
    },
    {
     "name": "stderr",
     "output_type": "stream",
     "text": [
      "Running evaluation: 411it [00:02, 161.38it/s]\n",
      "/home/reffert/.conda/envs/TEST_ENV/lib/python3.10/site-packages/pandas/core/dtypes/cast.py:1181: UserWarning: Warning: converting a masked element to nan.\n",
      "  return arr.astype(dtype, copy=True)\n",
      "Running evaluation: 411it [00:02, 161.93it/s]\n",
      "/home/reffert/.conda/envs/TEST_ENV/lib/python3.10/site-packages/pandas/core/dtypes/cast.py:1181: UserWarning: Warning: converting a masked element to nan.\n",
      "  return arr.astype(dtype, copy=True)\n",
      "Running evaluation: 411it [00:02, 161.71it/s]\n",
      "/home/reffert/.conda/envs/TEST_ENV/lib/python3.10/site-packages/pandas/core/dtypes/cast.py:1181: UserWarning: Warning: converting a masked element to nan.\n",
      "  return arr.astype(dtype, copy=True)\n",
      "Running evaluation: 411it [00:02, 161.20it/s]\n",
      "/home/reffert/.conda/envs/TEST_ENV/lib/python3.10/site-packages/pandas/core/dtypes/cast.py:1181: UserWarning: Warning: converting a masked element to nan.\n",
      "  return arr.astype(dtype, copy=True)\n",
      "100%|██████████| 50/50 [00:35<00:00,  1.40it/s, epoch=1/8, avg_epoch_loss=1.16]\n",
      "100%|██████████| 50/50 [00:32<00:00,  1.53it/s, epoch=2/8, avg_epoch_loss=1.06]\n",
      "100%|██████████| 50/50 [00:32<00:00,  1.54it/s, epoch=3/8, avg_epoch_loss=0.96] \n",
      "100%|██████████| 50/50 [00:34<00:00,  1.45it/s, epoch=4/8, avg_epoch_loss=0.92] \n",
      "100%|██████████| 50/50 [00:33<00:00,  1.50it/s, epoch=5/8, avg_epoch_loss=0.915]\n",
      "100%|██████████| 50/50 [00:34<00:00,  1.45it/s, epoch=6/8, avg_epoch_loss=1.01] \n",
      "100%|██████████| 50/50 [00:43<00:00,  1.16it/s, epoch=7/8, avg_epoch_loss=0.897]\n",
      "100%|██████████| 50/50 [00:51<00:00,  1.03s/it, epoch=8/8, avg_epoch_loss=0.897]\n"
     ]
    },
    {
     "name": "stdout",
     "output_type": "stream",
     "text": [
      "Ende make_evaluation_prediction: 2023-03-24 14:10:15.156682\n",
      "Ende umformen in Listen: 2023-03-24 14:14:32.399683\n"
     ]
    },
    {
     "name": "stderr",
     "output_type": "stream",
     "text": [
      "Running evaluation: 411it [00:02, 155.00it/s]\n",
      "/home/reffert/.conda/envs/TEST_ENV/lib/python3.10/site-packages/pandas/core/dtypes/cast.py:1181: UserWarning: Warning: converting a masked element to nan.\n",
      "  return arr.astype(dtype, copy=True)\n",
      "Running evaluation: 411it [00:02, 151.89it/s]\n",
      "/home/reffert/.conda/envs/TEST_ENV/lib/python3.10/site-packages/pandas/core/dtypes/cast.py:1181: UserWarning: Warning: converting a masked element to nan.\n",
      "  return arr.astype(dtype, copy=True)\n",
      "Running evaluation: 411it [00:02, 153.57it/s]\n",
      "/home/reffert/.conda/envs/TEST_ENV/lib/python3.10/site-packages/pandas/core/dtypes/cast.py:1181: UserWarning: Warning: converting a masked element to nan.\n",
      "  return arr.astype(dtype, copy=True)\n",
      "Running evaluation: 411it [00:02, 153.60it/s]\n",
      "/home/reffert/.conda/envs/TEST_ENV/lib/python3.10/site-packages/pandas/core/dtypes/cast.py:1181: UserWarning: Warning: converting a masked element to nan.\n",
      "  return arr.astype(dtype, copy=True)\n"
     ]
    },
    {
     "name": "stdout",
     "output_type": "stream",
     "text": [
      "2010\n"
     ]
    },
    {
     "name": "stderr",
     "output_type": "stream",
     "text": [
      "100%|██████████| 50/50 [00:53<00:00,  1.08s/it, epoch=1/8, avg_epoch_loss=1.31]\n",
      "100%|██████████| 50/50 [00:42<00:00,  1.18it/s, epoch=2/8, avg_epoch_loss=0.931]\n",
      "100%|██████████| 50/50 [00:38<00:00,  1.28it/s, epoch=3/8, avg_epoch_loss=0.865]\n",
      "100%|██████████| 50/50 [00:38<00:00,  1.31it/s, epoch=4/8, avg_epoch_loss=0.851]\n",
      "100%|██████████| 50/50 [00:36<00:00,  1.37it/s, epoch=5/8, avg_epoch_loss=0.832]\n",
      "100%|██████████| 50/50 [00:34<00:00,  1.45it/s, epoch=6/8, avg_epoch_loss=0.841]\n",
      "100%|██████████| 50/50 [00:34<00:00,  1.45it/s, epoch=7/8, avg_epoch_loss=0.814]\n",
      "100%|██████████| 50/50 [00:32<00:00,  1.54it/s, epoch=8/8, avg_epoch_loss=0.77] \n"
     ]
    },
    {
     "name": "stdout",
     "output_type": "stream",
     "text": [
      "Ende make_evaluation_prediction: 2023-03-24 14:20:03.638766\n",
      "Ende umformen in Listen: 2023-03-24 14:21:41.453287\n"
     ]
    },
    {
     "name": "stderr",
     "output_type": "stream",
     "text": [
      "Running evaluation: 411it [00:03, 103.24it/s]\n",
      "/home/reffert/.conda/envs/TEST_ENV/lib/python3.10/site-packages/pandas/core/dtypes/cast.py:1181: UserWarning: Warning: converting a masked element to nan.\n",
      "  return arr.astype(dtype, copy=True)\n",
      "Running evaluation: 411it [00:04, 94.36it/s]\n",
      "/home/reffert/.conda/envs/TEST_ENV/lib/python3.10/site-packages/pandas/core/dtypes/cast.py:1181: UserWarning: Warning: converting a masked element to nan.\n",
      "  return arr.astype(dtype, copy=True)\n",
      "Running evaluation: 411it [00:04, 88.84it/s]\n",
      "/home/reffert/.conda/envs/TEST_ENV/lib/python3.10/site-packages/pandas/core/dtypes/cast.py:1181: UserWarning: Warning: converting a masked element to nan.\n",
      "  return arr.astype(dtype, copy=True)\n",
      "Running evaluation: 411it [00:04, 100.03it/s]\n",
      "/home/reffert/.conda/envs/TEST_ENV/lib/python3.10/site-packages/pandas/core/dtypes/cast.py:1181: UserWarning: Warning: converting a masked element to nan.\n",
      "  return arr.astype(dtype, copy=True)\n",
      "100%|██████████| 50/50 [00:53<00:00,  1.07s/it, epoch=1/8, avg_epoch_loss=1.73]\n",
      "100%|██████████| 50/50 [00:49<00:00,  1.01it/s, epoch=2/8, avg_epoch_loss=1.68]\n",
      "100%|██████████| 50/50 [00:36<00:00,  1.38it/s, epoch=3/8, avg_epoch_loss=1.57]\n",
      "100%|██████████| 50/50 [00:35<00:00,  1.39it/s, epoch=4/8, avg_epoch_loss=1.3] \n",
      "100%|██████████| 50/50 [00:33<00:00,  1.47it/s, epoch=5/8, avg_epoch_loss=1.51]\n",
      "100%|██████████| 50/50 [00:32<00:00,  1.56it/s, epoch=6/8, avg_epoch_loss=1.34]\n",
      "100%|██████████| 50/50 [00:30<00:00,  1.63it/s, epoch=7/8, avg_epoch_loss=1.22]\n",
      "100%|██████████| 50/50 [00:30<00:00,  1.64it/s, epoch=8/8, avg_epoch_loss=1.26]\n"
     ]
    },
    {
     "name": "stdout",
     "output_type": "stream",
     "text": [
      "Ende make_evaluation_prediction: 2023-03-24 14:27:12.286793\n",
      "Ende umformen in Listen: 2023-03-24 14:27:26.841946\n"
     ]
    },
    {
     "name": "stderr",
     "output_type": "stream",
     "text": [
      "Running evaluation: 411it [00:02, 145.12it/s]\n",
      "/home/reffert/.conda/envs/TEST_ENV/lib/python3.10/site-packages/pandas/core/dtypes/cast.py:1181: UserWarning: Warning: converting a masked element to nan.\n",
      "  return arr.astype(dtype, copy=True)\n",
      "Running evaluation: 411it [00:02, 142.78it/s]\n",
      "/home/reffert/.conda/envs/TEST_ENV/lib/python3.10/site-packages/pandas/core/dtypes/cast.py:1181: UserWarning: Warning: converting a masked element to nan.\n",
      "  return arr.astype(dtype, copy=True)\n",
      "Running evaluation: 411it [00:02, 146.24it/s]\n",
      "/home/reffert/.conda/envs/TEST_ENV/lib/python3.10/site-packages/pandas/core/dtypes/cast.py:1181: UserWarning: Warning: converting a masked element to nan.\n",
      "  return arr.astype(dtype, copy=True)\n",
      "Running evaluation: 411it [00:02, 144.31it/s]\n",
      "/home/reffert/.conda/envs/TEST_ENV/lib/python3.10/site-packages/pandas/core/dtypes/cast.py:1181: UserWarning: Warning: converting a masked element to nan.\n",
      "  return arr.astype(dtype, copy=True)\n",
      "100%|██████████| 50/50 [00:49<00:00,  1.01it/s, epoch=1/8, avg_epoch_loss=1.37]\n",
      "100%|██████████| 50/50 [00:45<00:00,  1.11it/s, epoch=2/8, avg_epoch_loss=1.16]\n",
      "100%|██████████| 50/50 [00:41<00:00,  1.21it/s, epoch=3/8, avg_epoch_loss=1.12]\n",
      "100%|██████████| 50/50 [00:41<00:00,  1.20it/s, epoch=4/8, avg_epoch_loss=1.12]\n",
      "100%|██████████| 50/50 [00:38<00:00,  1.29it/s, epoch=5/8, avg_epoch_loss=1.16]\n",
      "100%|██████████| 50/50 [00:36<00:00,  1.38it/s, epoch=6/8, avg_epoch_loss=1.06]\n",
      "100%|██████████| 50/50 [00:36<00:00,  1.38it/s, epoch=7/8, avg_epoch_loss=1.07]\n",
      "100%|██████████| 50/50 [00:36<00:00,  1.38it/s, epoch=8/8, avg_epoch_loss=1.05]\n"
     ]
    },
    {
     "name": "stdout",
     "output_type": "stream",
     "text": [
      "Ende make_evaluation_prediction: 2023-03-24 14:33:13.881203\n",
      "Ende umformen in Listen: 2023-03-24 14:36:52.031710\n"
     ]
    },
    {
     "name": "stderr",
     "output_type": "stream",
     "text": [
      "Running evaluation: 411it [00:03, 134.71it/s]\n",
      "/home/reffert/.conda/envs/TEST_ENV/lib/python3.10/site-packages/pandas/core/dtypes/cast.py:1181: UserWarning: Warning: converting a masked element to nan.\n",
      "  return arr.astype(dtype, copy=True)\n",
      "Running evaluation: 411it [00:02, 138.14it/s]\n",
      "/home/reffert/.conda/envs/TEST_ENV/lib/python3.10/site-packages/pandas/core/dtypes/cast.py:1181: UserWarning: Warning: converting a masked element to nan.\n",
      "  return arr.astype(dtype, copy=True)\n",
      "Running evaluation: 411it [00:02, 138.68it/s]\n",
      "/home/reffert/.conda/envs/TEST_ENV/lib/python3.10/site-packages/pandas/core/dtypes/cast.py:1181: UserWarning: Warning: converting a masked element to nan.\n",
      "  return arr.astype(dtype, copy=True)\n",
      "Running evaluation: 411it [00:02, 137.20it/s]\n",
      "/home/reffert/.conda/envs/TEST_ENV/lib/python3.10/site-packages/pandas/core/dtypes/cast.py:1181: UserWarning: Warning: converting a masked element to nan.\n",
      "  return arr.astype(dtype, copy=True)\n"
     ]
    }
   ],
   "source": [
    "deepAR_without_features = config.deeparestimator\n",
    "new_parameters = {\"use_feat_dynamic_real\" : True,\n",
    "                  \"use_feat_static_real\" : True,\n",
    "                  \"use_feat_static_cat\" : True,\n",
    "                  \"cardinality\" : [2]*411}\n",
    "deepAR_with_features = update_deepAR_parameters(config, new_parameters)\n",
    "\n",
    "\n",
    "model_dict = {\"DeepAR_without_features\":deepAR_without_features, \"FFNN\":config.feedforwardestimator, \"DeepAR_with_features\":deepAR_with_features}\n",
    "for data_split in data_splits_dict.keys():\n",
    "    print(data_split)\n",
    "    forecasts_dict, evaluator_df_dict = forecast_by_week(config, data_splits_dict[data_split][0], data_splits_dict[data_split][1], locations, model_dict)\n",
    "    output_dict[data_split] = [forecasts_dict, evaluator_df_dict]\n",
    "    #plot_coverage(config, evaluator_df_dict)"
   ]
  },
  {
   "cell_type": "markdown",
   "id": "dcd42381-7b8f-45d8-85fe-b528f1cfefce",
   "metadata": {},
   "source": [
    "# Comparative Evaluation"
   ]
  },
  {
   "cell_type": "code",
   "execution_count": 5,
   "id": "1010c855-26c8-4a91-acc5-91b473c0a0c9",
   "metadata": {},
   "outputs": [
    {
     "name": "stdout",
     "output_type": "stream",
     "text": [
      "Week-1-Ahead\n",
      "                            ID    mean_WIS  MAE_Coverage\n",
      "0  2001DeepAR_without_features  370.768752      0.245199\n",
      "1                     2001FFNN  400.547810      0.124481\n",
      "2     2001DeepAR_with_features  661.491050      0.208504\n",
      "3  2010DeepAR_without_features  310.734063      0.258748\n",
      "4                     2010FFNN  414.365363      0.123765\n",
      "5     2010DeepAR_with_features  652.293083      0.233960\n",
      "Week-2-Ahead\n",
      "                            ID    mean_WIS  MAE_Coverage\n",
      "0  2001DeepAR_without_features  504.810810      0.258074\n",
      "1                     2001FFNN  521.382377      0.131050\n",
      "2     2001DeepAR_with_features  741.943813      0.202989\n",
      "3  2010DeepAR_without_features  411.791223      0.265838\n",
      "4                     2010FFNN  573.760671      0.133139\n",
      "5     2010DeepAR_with_features  725.179788      0.220698\n",
      "Week-3-Ahead\n",
      "                            ID    mean_WIS  MAE_Coverage\n",
      "0  2001DeepAR_without_features  639.856830      0.269679\n",
      "1                     2001FFNN  702.436149      0.122963\n",
      "2     2001DeepAR_with_features  830.656604      0.201996\n",
      "3  2010DeepAR_without_features  520.448627      0.277645\n",
      "4                     2010FFNN  689.895812      0.130713\n",
      "5     2010DeepAR_with_features  811.302329      0.214963\n",
      "Week-4-Ahead\n",
      "                            ID    mean_WIS  MAE_Coverage\n",
      "0  2001DeepAR_without_features  744.503702      0.277954\n",
      "1                     2001FFNN  822.315276      0.117196\n",
      "2     2001DeepAR_with_features  916.998783      0.202610\n",
      "3  2010DeepAR_without_features  628.607091      0.290315\n",
      "4                     2010FFNN  873.254727      0.123414\n",
      "5     2010DeepAR_with_features  895.405596      0.211821\n"
     ]
    }
   ],
   "source": [
    "final_evaluation_df = pd.DataFrame()\n",
    "for data_split in output_dict.keys():\n",
    "    forecasts_dict = output_dict[data_split][0]\n",
    "    evaluator_df_dict = output_dict[data_split][1]\n",
    "    #print(data_split)\n",
    "    #plot_coverage(config, evaluator_df_dict)\n",
    "    for key in evaluator_df_dict.keys():\n",
    "        evaluation_df = evaluator_df_dict[key].copy()\n",
    "        evaluation_df = evaluation_df.loc[evaluation_df.item_id.isin([item_id for item_id in evaluation_df.item_id if \"aggregate\" in item_id]),]        \n",
    "        evaluation_df['ID'] = str(data_split) + str(key)\n",
    "        final_evaluation_df = pd.concat([final_evaluation_df, evaluation_df])\n",
    "for i in range(1,5):\n",
    "    print(f\"Week-{i}-Ahead\")\n",
    "    print(final_evaluation_df.loc[final_evaluation_df.item_id == \"aggregated {\"f\"{i}\"+\"}\" ,[\"ID\", \"mean_WIS\", \"MAE_Coverage\"]].reset_index(drop=True))"
   ]
  },
  {
   "cell_type": "code",
   "execution_count": 6,
   "id": "b6fe849b-a296-41d0-83ab-65a44277300e",
   "metadata": {},
   "outputs": [
    {
     "data": {
      "image/png": "[encoded data removed]",
      "text/plain": [
       "<Figure size 1600x900 with 4 Axes>"
      ]
     },
     "metadata": {},
     "output_type": "display_data"
    }
   ],
   "source": [
    "fig, axs = plt.subplots(nrows=2, ncols=2, figsize=(16, 9), sharey=True)\n",
    "for i in range(1,5):\n",
    "    if i == 1:\n",
    "        plotnumber = (0, 0)\n",
    "    if i == 2:\n",
    "        plotnumber = (0, 1)\n",
    "    if i == 3:\n",
    "        plotnumber = (1, 0)\n",
    "    if i == 4:\n",
    "        plotnumber = (1, 1)\n",
    "    axs[plotnumber].bar(final_evaluation_df.loc[final_evaluation_df.item_id == \"aggregated {\"f\"{i}\"+\"}\",\"ID\"], final_evaluation_df.loc[final_evaluation_df.item_id == \"aggregated {\"f\"{i}\"+\"}\",\"mean_WIS\"])\n",
    "    axs[plotnumber].set_title(f\"mean_WIS Scores Week-{i}-ahead\")\n",
    "fig.autofmt_xdate(rotation=60, ha='right')\n",
    "plt.show()"
   ]
  }
 ],
 "metadata": {
  "kernelspec": {
   "display_name": "Python 3 (ipykernel)",
   "language": "python",
   "name": "python3"
  },
  "language_info": {
   "codemirror_mode": {
    "name": "ipython",
    "version": 3
   },
   "file_extension": ".py",
   "mimetype": "text/x-python",
   "name": "python",
   "nbconvert_exporter": "python",
   "pygments_lexer": "ipython3",
   "version": "3.9.2"
  },
  "vscode": {
   "interpreter": {
    "hash": "a2c22350a7fc5954781b9d0f696da260f97e72c12d1e6de22d8ab8c5d46dcf10"
   }
  }
 },
 "nbformat": 4,
 "nbformat_minor": 5
}
